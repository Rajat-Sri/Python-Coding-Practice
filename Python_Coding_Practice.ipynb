{
  "nbformat": 4,
  "nbformat_minor": 0,
  "metadata": {
    "colab": {
      "provenance": [],
      "authorship_tag": "ABX9TyN0eepoc/sD7RRb+BzHYpsj",
      "include_colab_link": true
    },
    "kernelspec": {
      "name": "python3",
      "display_name": "Python 3"
    },
    "language_info": {
      "name": "python"
    }
  },
  "cells": [
    {
      "cell_type": "markdown",
      "metadata": {
        "id": "view-in-github",
        "colab_type": "text"
      },
      "source": [
        "<a href=\"https://colab.research.google.com/github/Rajat-Sri/Python-Coding-Practice/blob/main/Python_Coding_Practice.ipynb\" target=\"_parent\"><img src=\"https://colab.research.google.com/assets/colab-badge.svg\" alt=\"Open In Colab\"/></a>"
      ]
    },
    {
      "cell_type": "markdown",
      "source": [
        "# Basic Operations In Python"
      ],
      "metadata": {
        "id": "FkxJNBx03_an"
      }
    },
    {
      "cell_type": "markdown",
      "source": [
        "\n",
        "\n",
        "![](https://i.imgur.com/gvSnw4A.png)\n",
        "\n"
      ],
      "metadata": {
        "id": "c3OvOiZY9foC"
      }
    },
    {
      "cell_type": "markdown",
      "source": [
        "## Performing Arithmetic Operations using Python\n",
        "\n",
        "Let's begin by using Python as a calculator. You can write and execute Python using a code cell within Jupyter.\n"
      ],
      "metadata": {
        "id": "o6d37ne64CGd"
      }
    },
    {
      "cell_type": "code",
      "source": [
        "2+3+9"
      ],
      "metadata": {
        "colab": {
          "base_uri": "https://localhost:8080/"
        },
        "id": "tRyCwkeb4FgG",
        "outputId": "245c877d-3c50-41ba-f521-9c9318f161ee"
      },
      "execution_count": null,
      "outputs": [
        {
          "output_type": "execute_result",
          "data": {
            "text/plain": [
              "14"
            ]
          },
          "metadata": {},
          "execution_count": 1
        }
      ]
    },
    {
      "cell_type": "code",
      "source": [
        "99-73"
      ],
      "metadata": {
        "colab": {
          "base_uri": "https://localhost:8080/"
        },
        "id": "WpsMeAPC4Fiv",
        "outputId": "61e02498-d01e-4d0f-c646-9faa9838b4d9"
      },
      "execution_count": null,
      "outputs": [
        {
          "output_type": "execute_result",
          "data": {
            "text/plain": [
              "26"
            ]
          },
          "metadata": {},
          "execution_count": 2
        }
      ]
    },
    {
      "cell_type": "code",
      "source": [
        "34*-56.7"
      ],
      "metadata": {
        "colab": {
          "base_uri": "https://localhost:8080/"
        },
        "id": "u6qNoa3j4FlI",
        "outputId": "b408490e-eae7-4e8e-8205-9348b0e36836"
      },
      "execution_count": null,
      "outputs": [
        {
          "output_type": "execute_result",
          "data": {
            "text/plain": [
              "-1927.8000000000002"
            ]
          },
          "metadata": {},
          "execution_count": 3
        }
      ]
    },
    {
      "cell_type": "code",
      "source": [
        "3018/14"
      ],
      "metadata": {
        "colab": {
          "base_uri": "https://localhost:8080/"
        },
        "id": "X3LHyYUR4FnR",
        "outputId": "7e8b5cf8-76c1-4277-a05f-619f4ea78419"
      },
      "execution_count": null,
      "outputs": [
        {
          "output_type": "execute_result",
          "data": {
            "text/plain": [
              "215.57142857142858"
            ]
          },
          "metadata": {},
          "execution_count": 4
        }
      ]
    },
    {
      "cell_type": "code",
      "source": [
        "100//7"
      ],
      "metadata": {
        "colab": {
          "base_uri": "https://localhost:8080/"
        },
        "id": "VQzN_90I4Foz",
        "outputId": "92f63333-72a0-47e0-babe-4041eb992678"
      },
      "execution_count": null,
      "outputs": [
        {
          "output_type": "execute_result",
          "data": {
            "text/plain": [
              "14"
            ]
          },
          "metadata": {},
          "execution_count": 5
        }
      ]
    },
    {
      "cell_type": "code",
      "source": [
        "5**3"
      ],
      "metadata": {
        "colab": {
          "base_uri": "https://localhost:8080/"
        },
        "id": "nNCc9j374Fqx",
        "outputId": "3d226ecb-dc33-43cc-8213-c90dd9ed24fd"
      },
      "execution_count": null,
      "outputs": [
        {
          "output_type": "execute_result",
          "data": {
            "text/plain": [
              "125"
            ]
          },
          "metadata": {},
          "execution_count": 6
        }
      ]
    },
    {
      "cell_type": "code",
      "source": [],
      "metadata": {
        "id": "2mSkzX5F4Fs-"
      },
      "execution_count": null,
      "outputs": []
    },
    {
      "cell_type": "markdown",
      "source": [
        "Python supports the following arithmetic operators:\n",
        "\n",
        "| Operator   | Purpose           | Example     | Result    |\n",
        "|------------|-------------------|-------------|-----------|\n",
        "| `+`        | Addition          | `2 + 3`     | `5`       |\n",
        "| `-`        | Subtraction       | `3 - 2`     | `1`       |\n",
        "| `*`        | Multiplication    | `8 * 12`    | `96`      |\n",
        "| `/`        | Division          | `100 / 7`   | `14.28..` |\n",
        "| `//`       | Floor Division    | `100 // 7`  | `14`      |    \n",
        "| `%`        | Modulus/Remainder | `100 % 7`   | `2`       |\n",
        "| `**`       | Exponent          | `5 ** 3`    | `125`     |\n"
      ],
      "metadata": {
        "id": "COvE9wB34ci6"
      }
    },
    {
      "cell_type": "markdown",
      "source": [
        "## Variables:\n",
        " While working with a programming language such as Python, information is stored in variables. You can think of variables as containers for storing data. The data stored within a variable is called its value."
      ],
      "metadata": {
        "id": "CIlHAQX64sLu"
      }
    },
    {
      "cell_type": "code",
      "source": [
        "a = 4\n",
        "b = 5\n",
        "c = a+b\n",
        "c"
      ],
      "metadata": {
        "colab": {
          "base_uri": "https://localhost:8080/"
        },
        "id": "p8b2e5Mm4Fu9",
        "outputId": "73e82046-8a2c-4d80-e177-843584930986"
      },
      "execution_count": null,
      "outputs": [
        {
          "output_type": "execute_result",
          "data": {
            "text/plain": [
              "9"
            ]
          },
          "metadata": {},
          "execution_count": 8
        }
      ]
    },
    {
      "cell_type": "markdown",
      "source": [
        " **Comments**: Comments and blank lines are ignored during execution, but they are useful for providing information to humans (including yourself) about what the code does. Comments can be inline (at the end of some code), on a separate line, or even span multiple lines.\n",
        "\n",
        "Inline and single-line comments start with `#`, whereas multi-line comments begin and end with three quotes, i.e. `\"\"\"`. Here are some examples of code comments:"
      ],
      "metadata": {
        "id": "Av43rpEo5AXE"
      }
    },
    {
      "cell_type": "code",
      "source": [
        "my_favorite_number = 1 # an inline comment"
      ],
      "metadata": {
        "id": "z0AfbB9K4Fww"
      },
      "execution_count": null,
      "outputs": []
    },
    {
      "cell_type": "code",
      "source": [
        "# This comment gets its own line\n",
        "my_least_favorite_number = 3"
      ],
      "metadata": {
        "id": "kv4rg0li4Fyv"
      },
      "execution_count": null,
      "outputs": []
    },
    {
      "cell_type": "code",
      "source": [
        "\"\"\"This is a multi-line comment.\n",
        "Write as little or as much as you'd like.\n",
        "\n",
        "Comments are really helpful for people reading\n",
        "your code, but try to keep them short & to-the-point.\n",
        "\n",
        "Also, if you use good variable names, then your code is\n",
        "often self explanatory, and you may not even need comments!\n",
        "\"\"\"\n",
        "a_neutral_number = 5"
      ],
      "metadata": {
        "id": "HkgOnxkA4F01"
      },
      "execution_count": null,
      "outputs": []
    },
    {
      "cell_type": "markdown",
      "source": [
        "## Evaluating conditions using Python\n",
        "\n",
        "Apart from arithmetic operations, Python also provides several operations for comparing numbers & variables.\n",
        "\n",
        "| Operator    | Description                                                     |\n",
        "|-------------|-----------------------------------------------------------------|\n",
        "| `==`        | Check if operands are equal                                     |\n",
        "| `!=`        | Check if operands are not equal                                 |\n",
        "| `>`         | Check if left operand is greater than right operand             |\n",
        "| `<`         | Check if left operand is less than right operand                |\n",
        "| `>=`        | Check if left operand is greater than or equal to right operand |\n",
        "| `<=`        | Check if left operand is less than or equal to right operand    |\n",
        "\n",
        "The result of a comparison operation is either `True` or `False` (note the uppercase `T` and `F`). These are special keywords in Python. Let's try out some experiments with comparison operators."
      ],
      "metadata": {
        "id": "OMxOTByj5gkv"
      }
    },
    {
      "cell_type": "code",
      "source": [
        "my_favorite_number = 1\n",
        "my_least_favorite_number = 5\n",
        "a_neutral_number = 3"
      ],
      "metadata": {
        "id": "Fh0KVkjg4F2h"
      },
      "execution_count": null,
      "outputs": []
    },
    {
      "cell_type": "code",
      "source": [
        "# Equality check - True\n",
        "my_favorite_number == 1"
      ],
      "metadata": {
        "colab": {
          "base_uri": "https://localhost:8080/"
        },
        "id": "FMM7hrL94F4n",
        "outputId": "af600f94-cdd0-4e52-e26f-68ed0496cd89"
      },
      "execution_count": null,
      "outputs": [
        {
          "output_type": "execute_result",
          "data": {
            "text/plain": [
              "True"
            ]
          },
          "metadata": {},
          "execution_count": 13
        }
      ]
    },
    {
      "cell_type": "code",
      "source": [
        "# Equality check - False\n",
        "my_favorite_number == my_least_favorite_number"
      ],
      "metadata": {
        "colab": {
          "base_uri": "https://localhost:8080/"
        },
        "id": "bVaj9oge5vEU",
        "outputId": "0546bfa5-387b-4b8c-b3d7-10729dc0a431"
      },
      "execution_count": null,
      "outputs": [
        {
          "output_type": "execute_result",
          "data": {
            "text/plain": [
              "False"
            ]
          },
          "metadata": {},
          "execution_count": 14
        }
      ]
    },
    {
      "cell_type": "code",
      "source": [
        "# Not equal check - True\n",
        "my_favorite_number != a_neutral_number"
      ],
      "metadata": {
        "colab": {
          "base_uri": "https://localhost:8080/"
        },
        "id": "lXqUuuRE5vH6",
        "outputId": "ce5adfc9-5f4f-4b7d-fd03-d6312b4faaf9"
      },
      "execution_count": null,
      "outputs": [
        {
          "output_type": "execute_result",
          "data": {
            "text/plain": [
              "True"
            ]
          },
          "metadata": {},
          "execution_count": 15
        }
      ]
    },
    {
      "cell_type": "code",
      "source": [
        "# Not equal check - False\n",
        "a_neutral_number != 3"
      ],
      "metadata": {
        "colab": {
          "base_uri": "https://localhost:8080/"
        },
        "id": "2mM-nxYj5vJl",
        "outputId": "b9ffadd2-c341-4378-d5a7-9c52e622862c"
      },
      "execution_count": null,
      "outputs": [
        {
          "output_type": "execute_result",
          "data": {
            "text/plain": [
              "False"
            ]
          },
          "metadata": {},
          "execution_count": 16
        }
      ]
    },
    {
      "cell_type": "code",
      "source": [
        "# Greater than check - True\n",
        "my_least_favorite_number > a_neutral_number"
      ],
      "metadata": {
        "colab": {
          "base_uri": "https://localhost:8080/"
        },
        "id": "r0dFNwSa5vN2",
        "outputId": "a31f8566-5aa6-4cb2-a960-c2958bd0a0e0"
      },
      "execution_count": null,
      "outputs": [
        {
          "output_type": "execute_result",
          "data": {
            "text/plain": [
              "True"
            ]
          },
          "metadata": {},
          "execution_count": 17
        }
      ]
    },
    {
      "cell_type": "code",
      "source": [
        "# Greater than check - False\n",
        "my_favorite_number > my_least_favorite_number"
      ],
      "metadata": {
        "colab": {
          "base_uri": "https://localhost:8080/"
        },
        "id": "9tVr6Pzx5vP2",
        "outputId": "d321f645-9874-45dd-c224-f9646f5a1d3c"
      },
      "execution_count": null,
      "outputs": [
        {
          "output_type": "execute_result",
          "data": {
            "text/plain": [
              "False"
            ]
          },
          "metadata": {},
          "execution_count": 18
        }
      ]
    },
    {
      "cell_type": "code",
      "source": [
        "# Less than check - False\n",
        "my_least_favorite_number < my_favorite_number"
      ],
      "metadata": {
        "colab": {
          "base_uri": "https://localhost:8080/"
        },
        "id": "HcdGqgN-5vR4",
        "outputId": "0e041c9a-8617-4c8c-f16b-84c2c5891fbb"
      },
      "execution_count": null,
      "outputs": [
        {
          "output_type": "execute_result",
          "data": {
            "text/plain": [
              "False"
            ]
          },
          "metadata": {},
          "execution_count": 19
        }
      ]
    },
    {
      "cell_type": "code",
      "source": [
        "# Greater than or equal check - False\n",
        "my_favorite_number >= 3"
      ],
      "metadata": {
        "colab": {
          "base_uri": "https://localhost:8080/"
        },
        "id": "fgC0kca95vTu",
        "outputId": "eb3c3d4a-57e1-4067-931c-fdfde14d0d44"
      },
      "execution_count": null,
      "outputs": [
        {
          "output_type": "execute_result",
          "data": {
            "text/plain": [
              "False"
            ]
          },
          "metadata": {},
          "execution_count": 20
        }
      ]
    },
    {
      "cell_type": "code",
      "source": [
        "# Less than or equal check - False\n",
        "my_favorite_number + a_neutral_number <= 3"
      ],
      "metadata": {
        "colab": {
          "base_uri": "https://localhost:8080/"
        },
        "id": "brgHoLYx5vV0",
        "outputId": "742ca990-db3b-442e-a19a-bf9edf785ddd"
      },
      "execution_count": null,
      "outputs": [
        {
          "output_type": "execute_result",
          "data": {
            "text/plain": [
              "False"
            ]
          },
          "metadata": {},
          "execution_count": 21
        }
      ]
    },
    {
      "cell_type": "markdown",
      "source": [
        "Just like arithmetic operations, the result of a comparison operation can also be stored in a variable."
      ],
      "metadata": {
        "id": "qTUt9grR6I2q"
      }
    },
    {
      "cell_type": "code",
      "source": [
        "cost_of_ice_bag = 1.25\n",
        "is_ice_bag_expensive = cost_of_ice_bag >= 10\n",
        "print(\"Is the ice bag expensive?\", is_ice_bag_expensive)"
      ],
      "metadata": {
        "colab": {
          "base_uri": "https://localhost:8080/"
        },
        "id": "GVNSitPo5vYp",
        "outputId": "a1cd1696-cb4e-498c-bead-0e41b47d0f8f"
      },
      "execution_count": null,
      "outputs": [
        {
          "output_type": "stream",
          "name": "stdout",
          "text": [
            "Is the ice bag expensive? False\n"
          ]
        }
      ]
    },
    {
      "cell_type": "markdown",
      "source": [
        "## Combining conditions with logical operators\n",
        "\n",
        "The logical operators `and`, `or` and `not` operate upon conditions and `True` & `False` values (also known as *booleans*). `and` and `or` operate on two conditions, whereas `not` operates on a single condition.\n",
        "\n",
        "The `and` operator returns `True` when both the conditions evaluate to `True`. Otherwise, it returns `False`.\n",
        "\n",
        "| `a`     | `b`    | `a and b` |\n",
        "|---------|--------|-----------|\n",
        "|  `True` | `True` | `True`    |\n",
        "|  `True` | `False`| `False`   |\n",
        "|  `False`| `True` | `False`   |\n",
        "|  `False`| `False`| `False`   |"
      ],
      "metadata": {
        "id": "M1jKWZZB6Yl-"
      }
    },
    {
      "cell_type": "code",
      "source": [
        "my_favorite_number"
      ],
      "metadata": {
        "colab": {
          "base_uri": "https://localhost:8080/"
        },
        "id": "cu4tXSG75vZ6",
        "outputId": "e678ae6a-a432-4d6d-9ed2-74fba1b3246a"
      },
      "execution_count": null,
      "outputs": [
        {
          "output_type": "execute_result",
          "data": {
            "text/plain": [
              "1"
            ]
          },
          "metadata": {},
          "execution_count": 23
        }
      ]
    },
    {
      "cell_type": "code",
      "source": [
        "my_favorite_number > 0 and my_favorite_number <= 3"
      ],
      "metadata": {
        "colab": {
          "base_uri": "https://localhost:8080/"
        },
        "id": "j0NkqSqK5vcE",
        "outputId": "db2d92d2-7a60-4533-b896-d542b31c6f5f"
      },
      "execution_count": null,
      "outputs": [
        {
          "output_type": "execute_result",
          "data": {
            "text/plain": [
              "True"
            ]
          },
          "metadata": {},
          "execution_count": 24
        }
      ]
    },
    {
      "cell_type": "code",
      "source": [
        "my_favorite_number < 0 and my_favorite_number <= 3"
      ],
      "metadata": {
        "colab": {
          "base_uri": "https://localhost:8080/"
        },
        "id": "BBSwdfnR5vd-",
        "outputId": "f33ff11e-678e-4879-8853-757c0125baf6"
      },
      "execution_count": null,
      "outputs": [
        {
          "output_type": "execute_result",
          "data": {
            "text/plain": [
              "False"
            ]
          },
          "metadata": {},
          "execution_count": 25
        }
      ]
    },
    {
      "cell_type": "code",
      "source": [
        "True and False"
      ],
      "metadata": {
        "colab": {
          "base_uri": "https://localhost:8080/"
        },
        "id": "DcrkALun6o-E",
        "outputId": "d0fd04b2-1854-45c7-c349-217a493b9195"
      },
      "execution_count": null,
      "outputs": [
        {
          "output_type": "execute_result",
          "data": {
            "text/plain": [
              "False"
            ]
          },
          "metadata": {},
          "execution_count": 26
        }
      ]
    },
    {
      "cell_type": "code",
      "source": [
        "True and True"
      ],
      "metadata": {
        "colab": {
          "base_uri": "https://localhost:8080/"
        },
        "id": "qw_YOMoR6pAM",
        "outputId": "ff74f488-318f-4395-9003-45ea83fc3d0d"
      },
      "execution_count": null,
      "outputs": [
        {
          "output_type": "execute_result",
          "data": {
            "text/plain": [
              "True"
            ]
          },
          "metadata": {},
          "execution_count": 27
        }
      ]
    },
    {
      "cell_type": "markdown",
      "source": [
        "The `or` operator returns `True` if at least one of the conditions evaluates to `True`. It returns `False` only if both conditions are `False`.\n",
        "\n",
        "| `a`     | `b`    | `a or b`  |\n",
        "|---------|--------|-----------|\n",
        "|  `True` | `True` | `True`    |\n",
        "|  `True` | `False`| `True`    |\n",
        "|  `False`| `True` | `True`    |\n",
        "|  `False`| `False`| `False`   |\n"
      ],
      "metadata": {
        "id": "HFX0sG3J63q9"
      }
    },
    {
      "cell_type": "code",
      "source": [
        "a_neutral_number = 3"
      ],
      "metadata": {
        "id": "_tfQQiFZ6pBp"
      },
      "execution_count": null,
      "outputs": []
    },
    {
      "cell_type": "code",
      "source": [
        "a_neutral_number == 3 or my_favorite_number < 0"
      ],
      "metadata": {
        "colab": {
          "base_uri": "https://localhost:8080/"
        },
        "id": "gYGT2cOU6pDp",
        "outputId": "422614be-98fa-409c-cf5a-823162970086"
      },
      "execution_count": null,
      "outputs": [
        {
          "output_type": "execute_result",
          "data": {
            "text/plain": [
              "True"
            ]
          },
          "metadata": {},
          "execution_count": 29
        }
      ]
    },
    {
      "cell_type": "code",
      "source": [
        "a_neutral_number != 3 or my_favorite_number < 0"
      ],
      "metadata": {
        "colab": {
          "base_uri": "https://localhost:8080/"
        },
        "id": "uDf6mMsQ6pF8",
        "outputId": "ae750648-fd24-4f4a-9de5-0148d8e142a0"
      },
      "execution_count": null,
      "outputs": [
        {
          "output_type": "execute_result",
          "data": {
            "text/plain": [
              "False"
            ]
          },
          "metadata": {},
          "execution_count": 30
        }
      ]
    },
    {
      "cell_type": "code",
      "source": [
        "my_favorite_number < 0 or True"
      ],
      "metadata": {
        "colab": {
          "base_uri": "https://localhost:8080/"
        },
        "id": "hpxTPeXW6pHs",
        "outputId": "0b342cc2-c1f9-44c4-e1ad-4b4bb177c78b"
      },
      "execution_count": null,
      "outputs": [
        {
          "output_type": "execute_result",
          "data": {
            "text/plain": [
              "True"
            ]
          },
          "metadata": {},
          "execution_count": 31
        }
      ]
    },
    {
      "cell_type": "markdown",
      "source": [
        "The `not` operator returns `False` if a condition is `True` and `True` if the condition is `False`."
      ],
      "metadata": {
        "id": "PN5I9fy37IqP"
      }
    },
    {
      "cell_type": "code",
      "source": [
        "not a_neutral_number == 3"
      ],
      "metadata": {
        "colab": {
          "base_uri": "https://localhost:8080/"
        },
        "id": "feK0XDyg6pJ1",
        "outputId": "0da68f9f-7d8b-4932-d5e7-5ec643a61794"
      },
      "execution_count": null,
      "outputs": [
        {
          "output_type": "execute_result",
          "data": {
            "text/plain": [
              "False"
            ]
          },
          "metadata": {},
          "execution_count": 32
        }
      ]
    },
    {
      "cell_type": "code",
      "source": [
        "not my_favorite_number < 0"
      ],
      "metadata": {
        "colab": {
          "base_uri": "https://localhost:8080/"
        },
        "id": "0XGopkKJ6pL2",
        "outputId": "5b18f08d-20c2-4c2b-aa79-5b8fe8b134a1"
      },
      "execution_count": null,
      "outputs": [
        {
          "output_type": "execute_result",
          "data": {
            "text/plain": [
              "True"
            ]
          },
          "metadata": {},
          "execution_count": 33
        }
      ]
    },
    {
      "cell_type": "markdown",
      "source": [
        "Logical operators can be combined to form complex conditions. Use round brackets or parentheses `(` and `)` to indicate the order in which logical operators should be applied."
      ],
      "metadata": {
        "id": "h2dF-FEQ7Ynv"
      }
    },
    {
      "cell_type": "code",
      "source": [
        "(2 > 3 and 4 <= 5) or not (my_favorite_number < 0 and True)"
      ],
      "metadata": {
        "colab": {
          "base_uri": "https://localhost:8080/"
        },
        "id": "rhaftPqc6pNm",
        "outputId": "d5583d05-0b8e-402c-bb27-459748c0fb3b"
      },
      "execution_count": null,
      "outputs": [
        {
          "output_type": "execute_result",
          "data": {
            "text/plain": [
              "True"
            ]
          },
          "metadata": {},
          "execution_count": 34
        }
      ]
    },
    {
      "cell_type": "code",
      "source": [
        "not (True and 0 < 1) or (False and True)"
      ],
      "metadata": {
        "colab": {
          "base_uri": "https://localhost:8080/"
        },
        "id": "F4IjQj5x6pPx",
        "outputId": "7c084c84-a98c-4190-da85-f37e44853e9c"
      },
      "execution_count": null,
      "outputs": [
        {
          "output_type": "execute_result",
          "data": {
            "text/plain": [
              "False"
            ]
          },
          "metadata": {},
          "execution_count": 35
        }
      ]
    },
    {
      "cell_type": "markdown",
      "source": [
        "If parentheses are not used, logical operators are applied from left to right."
      ],
      "metadata": {
        "id": "21x2uKa47gkV"
      }
    },
    {
      "cell_type": "code",
      "source": [
        "not True and 0 < 1 or False and True"
      ],
      "metadata": {
        "colab": {
          "base_uri": "https://localhost:8080/"
        },
        "id": "IozhP19i6pSC",
        "outputId": "82c32c25-5a70-4e2b-d39e-6377fe2d05a8"
      },
      "execution_count": null,
      "outputs": [
        {
          "output_type": "execute_result",
          "data": {
            "text/plain": [
              "False"
            ]
          },
          "metadata": {},
          "execution_count": 36
        }
      ]
    },
    {
      "cell_type": "markdown",
      "source": [
        "# Variables and Data Types"
      ],
      "metadata": {
        "id": "rI8_W8JF8GpL"
      }
    },
    {
      "cell_type": "markdown",
      "source": [
        "A Quick Tour of Variables and Data Types in Python\n",
        "\n",
        "\n",
        "![](https://i.imgur.com/6cg2E9Q.png)\n"
      ],
      "metadata": {
        "id": "xwSwblzM9RHZ"
      }
    },
    {
      "cell_type": "markdown",
      "source": [
        "Storing information using variables"
      ],
      "metadata": {
        "id": "7JMMK0Xy9pMA"
      }
    },
    {
      "cell_type": "code",
      "source": [
        "my_favorite_color = \"blue\""
      ],
      "metadata": {
        "id": "TnI-6SYv8LzK"
      },
      "execution_count": null,
      "outputs": []
    },
    {
      "cell_type": "code",
      "source": [
        "my_favorite_color"
      ],
      "metadata": {
        "colab": {
          "base_uri": "https://localhost:8080/",
          "height": 36
        },
        "id": "6LshCo229KVN",
        "outputId": "5a48f6d2-d1b0-41c3-ac28-7434e95502c0"
      },
      "execution_count": null,
      "outputs": [
        {
          "output_type": "execute_result",
          "data": {
            "text/plain": [
              "'blue'"
            ],
            "application/vnd.google.colaboratory.intrinsic+json": {
              "type": "string"
            }
          },
          "metadata": {},
          "execution_count": 38
        }
      ]
    },
    {
      "cell_type": "markdown",
      "source": [
        "You can also assign values to multiple variables in a single statement by separating the variable names and values with commas."
      ],
      "metadata": {
        "id": "vkelUhO591pp"
      }
    },
    {
      "cell_type": "code",
      "source": [
        "color1, color2, color3 = \"red\", \"green\", \"blue\""
      ],
      "metadata": {
        "id": "S5AVTFR89KXR"
      },
      "execution_count": null,
      "outputs": []
    },
    {
      "cell_type": "code",
      "source": [
        "color1"
      ],
      "metadata": {
        "colab": {
          "base_uri": "https://localhost:8080/",
          "height": 36
        },
        "id": "ggQt-5DH9KYm",
        "outputId": "57e7982b-047d-4ba1-a55e-1461892d953d"
      },
      "execution_count": null,
      "outputs": [
        {
          "output_type": "execute_result",
          "data": {
            "text/plain": [
              "'red'"
            ],
            "application/vnd.google.colaboratory.intrinsic+json": {
              "type": "string"
            }
          },
          "metadata": {},
          "execution_count": 40
        }
      ]
    },
    {
      "cell_type": "code",
      "source": [
        "color3"
      ],
      "metadata": {
        "colab": {
          "base_uri": "https://localhost:8080/",
          "height": 36
        },
        "id": "NjiSGGNV9Kau",
        "outputId": "cd658930-fa80-4cc6-92c4-a37eb513770a"
      },
      "execution_count": null,
      "outputs": [
        {
          "output_type": "execute_result",
          "data": {
            "text/plain": [
              "'blue'"
            ],
            "application/vnd.google.colaboratory.intrinsic+json": {
              "type": "string"
            }
          },
          "metadata": {},
          "execution_count": 41
        }
      ]
    },
    {
      "cell_type": "markdown",
      "source": [
        "You can assign the same value to multiple variables by chaining multiple assignment operations within a single statement."
      ],
      "metadata": {
        "id": "HC23kdCg9_hA"
      }
    },
    {
      "cell_type": "code",
      "source": [
        "color4 = color5 = color6 = \"magenta\""
      ],
      "metadata": {
        "id": "CLiJoOqh9Kcz"
      },
      "execution_count": null,
      "outputs": []
    },
    {
      "cell_type": "code",
      "source": [
        "color5"
      ],
      "metadata": {
        "colab": {
          "base_uri": "https://localhost:8080/",
          "height": 36
        },
        "id": "k3S6sNpo9Keo",
        "outputId": "178bc9a6-496f-471d-d9da-3f1c92dfab41"
      },
      "execution_count": null,
      "outputs": [
        {
          "output_type": "execute_result",
          "data": {
            "text/plain": [
              "'magenta'"
            ],
            "application/vnd.google.colaboratory.intrinsic+json": {
              "type": "string"
            }
          },
          "metadata": {},
          "execution_count": 43
        }
      ]
    },
    {
      "cell_type": "code",
      "source": [
        "color6"
      ],
      "metadata": {
        "colab": {
          "base_uri": "https://localhost:8080/",
          "height": 36
        },
        "id": "AXWxm5x-9Kgs",
        "outputId": "30555cbb-4418-408a-e670-d996ac11a641"
      },
      "execution_count": null,
      "outputs": [
        {
          "output_type": "execute_result",
          "data": {
            "text/plain": [
              "'magenta'"
            ],
            "application/vnd.google.colaboratory.intrinsic+json": {
              "type": "string"
            }
          },
          "metadata": {},
          "execution_count": 44
        }
      ]
    },
    {
      "cell_type": "markdown",
      "source": [
        "You can change the value stored within a variable by assigning a new value to it using another assignment statement. Be careful while reassigning variables: when you assign a new value to the variable, the old value is lost and no longer accessible."
      ],
      "metadata": {
        "id": "gibUrWYa-M9H"
      }
    },
    {
      "cell_type": "code",
      "source": [
        "my_favorite_color"
      ],
      "metadata": {
        "colab": {
          "base_uri": "https://localhost:8080/",
          "height": 36
        },
        "id": "S-hnRRVW9Kim",
        "outputId": "06d07112-153f-45a3-fbfe-8f8e804237e1"
      },
      "execution_count": null,
      "outputs": [
        {
          "output_type": "execute_result",
          "data": {
            "text/plain": [
              "'blue'"
            ],
            "application/vnd.google.colaboratory.intrinsic+json": {
              "type": "string"
            }
          },
          "metadata": {},
          "execution_count": 45
        }
      ]
    },
    {
      "cell_type": "code",
      "source": [
        "my_favorite_color = \"red\""
      ],
      "metadata": {
        "id": "nbuWju9j9Kkq"
      },
      "execution_count": null,
      "outputs": []
    },
    {
      "cell_type": "code",
      "source": [
        "my_favorite_color"
      ],
      "metadata": {
        "colab": {
          "base_uri": "https://localhost:8080/",
          "height": 36
        },
        "id": "BEfvxPW_9Km2",
        "outputId": "052cf58c-1bf0-4603-f704-46dffa9198f5"
      },
      "execution_count": null,
      "outputs": [
        {
          "output_type": "execute_result",
          "data": {
            "text/plain": [
              "'red'"
            ],
            "application/vnd.google.colaboratory.intrinsic+json": {
              "type": "string"
            }
          },
          "metadata": {},
          "execution_count": 47
        }
      ]
    },
    {
      "cell_type": "markdown",
      "source": [
        "While reassigning a variable, you can also use the variable's previous value to compute the new value."
      ],
      "metadata": {
        "id": "iQCq9Wh_-dDT"
      }
    },
    {
      "cell_type": "code",
      "source": [
        "counter = 10"
      ],
      "metadata": {
        "id": "QMBRsFzv9Koz"
      },
      "execution_count": null,
      "outputs": []
    },
    {
      "cell_type": "code",
      "source": [
        "counter = counter + 1"
      ],
      "metadata": {
        "id": "AOMxnEn59Kqv"
      },
      "execution_count": null,
      "outputs": []
    },
    {
      "cell_type": "code",
      "source": [
        "counter"
      ],
      "metadata": {
        "colab": {
          "base_uri": "https://localhost:8080/"
        },
        "id": "19FNgeAc9Ks8",
        "outputId": "0ff86be8-db69-465d-e6f0-377d658a5b28"
      },
      "execution_count": null,
      "outputs": [
        {
          "output_type": "execute_result",
          "data": {
            "text/plain": [
              "11"
            ]
          },
          "metadata": {},
          "execution_count": 70
        }
      ]
    },
    {
      "cell_type": "markdown",
      "source": [
        "Python provides a shorthand syntax for it."
      ],
      "metadata": {
        "id": "UWyEdF4s-3cC"
      }
    },
    {
      "cell_type": "code",
      "source": [
        "# Same as `counter = counter + 4`\n",
        "counter += 4"
      ],
      "metadata": {
        "id": "HlDvvwQq9KvA"
      },
      "execution_count": null,
      "outputs": []
    },
    {
      "cell_type": "code",
      "source": [
        "counter"
      ],
      "metadata": {
        "colab": {
          "base_uri": "https://localhost:8080/"
        },
        "id": "SERNzclN9KxF",
        "outputId": "6abff78c-afe3-40db-f41c-580bb79d324d"
      },
      "execution_count": null,
      "outputs": [
        {
          "output_type": "execute_result",
          "data": {
            "text/plain": [
              "15"
            ]
          },
          "metadata": {},
          "execution_count": 72
        }
      ]
    },
    {
      "cell_type": "markdown",
      "source": [
        "Variable names can be short (`a`, `x`, `y`, etc.) or descriptive ( `my_favorite_color`, `profit_margin`, `the_3_musketeers`, etc.). However, you must follow these rules while naming Python variables:\n",
        "\n",
        "* A variable's name must start with a letter or the underscore character `_`. It cannot begin with a number.\n",
        "* A variable name can only contain lowercase (small) or uppercase (capital) letters, digits, or underscores (`a`-`z`, `A`-`Z`, `0`-`9`, and `_`).\n",
        "* Variable names are case-sensitive, i.e., `a_variable`, `A_Variable`, and `A_VARIABLE` are all different variables.\n",
        "\n",
        "Here are some valid variable names:"
      ],
      "metadata": {
        "id": "HsK95Acq_bwF"
      }
    },
    {
      "cell_type": "code",
      "source": [
        "a_variable = 23\n",
        "is_today_Saturday = False\n",
        "my_favorite_car = \"Delorean\"\n",
        "the_3_musketeers = [\"Athos\", \"Porthos\", \"Aramis\"]"
      ],
      "metadata": {
        "id": "k4ZV1IB99Ky-"
      },
      "execution_count": null,
      "outputs": []
    },
    {
      "cell_type": "markdown",
      "source": [
        "Let's try creating some variables with invalid names. Python prints a syntax error if your variable's name is invalid"
      ],
      "metadata": {
        "id": "LIea5sDY_i1g"
      }
    },
    {
      "cell_type": "code",
      "source": [
        "a variable = 23"
      ],
      "metadata": {
        "colab": {
          "base_uri": "https://localhost:8080/",
          "height": 134
        },
        "id": "F2ijmygu9K1L",
        "outputId": "7c98dc4d-f474-4918-b012-7e28bbe14460"
      },
      "execution_count": null,
      "outputs": [
        {
          "output_type": "error",
          "ename": "SyntaxError",
          "evalue": "ignored",
          "traceback": [
            "\u001b[0;36m  File \u001b[0;32m\"<ipython-input-74-b4f9daa715a5>\"\u001b[0;36m, line \u001b[0;32m1\u001b[0m\n\u001b[0;31m    a variable = 23\u001b[0m\n\u001b[0m      ^\u001b[0m\n\u001b[0;31mSyntaxError\u001b[0m\u001b[0;31m:\u001b[0m invalid syntax\n"
          ]
        }
      ]
    },
    {
      "cell_type": "code",
      "source": [
        "is_today_$aturday = False"
      ],
      "metadata": {
        "colab": {
          "base_uri": "https://localhost:8080/",
          "height": 134
        },
        "id": "RMq2CL6_9K3w",
        "outputId": "8b13f63c-4f16-4105-9f95-3252b5e98a32"
      },
      "execution_count": null,
      "outputs": [
        {
          "output_type": "error",
          "ename": "SyntaxError",
          "evalue": "ignored",
          "traceback": [
            "\u001b[0;36m  File \u001b[0;32m\"<ipython-input-75-3785425ca227>\"\u001b[0;36m, line \u001b[0;32m1\u001b[0m\n\u001b[0;31m    is_today_$aturday = False\u001b[0m\n\u001b[0m             ^\u001b[0m\n\u001b[0;31mSyntaxError\u001b[0m\u001b[0;31m:\u001b[0m invalid syntax\n"
          ]
        }
      ]
    },
    {
      "cell_type": "code",
      "source": [
        "my-favorite-car = \"Delorean\""
      ],
      "metadata": {
        "colab": {
          "base_uri": "https://localhost:8080/",
          "height": 134
        },
        "id": "Q6xHs_l-9K5L",
        "outputId": "83739e3b-ebfe-4a93-8711-13b208c3e34c"
      },
      "execution_count": null,
      "outputs": [
        {
          "output_type": "error",
          "ename": "SyntaxError",
          "evalue": "ignored",
          "traceback": [
            "\u001b[0;36m  File \u001b[0;32m\"<ipython-input-76-829f5ed5b10b>\"\u001b[0;36m, line \u001b[0;32m1\u001b[0m\n\u001b[0;31m    my-favorite-car = \"Delorean\"\u001b[0m\n\u001b[0m    ^\u001b[0m\n\u001b[0;31mSyntaxError\u001b[0m\u001b[0;31m:\u001b[0m cannot assign to expression here. Maybe you meant '==' instead of '='?\n"
          ]
        }
      ]
    },
    {
      "cell_type": "code",
      "source": [
        "3_musketeers = [\"Athos\", \"Porthos\", \"Aramis\"]"
      ],
      "metadata": {
        "colab": {
          "base_uri": "https://localhost:8080/",
          "height": 134
        },
        "id": "8ISIa_SE9K7I",
        "outputId": "1405d17e-5017-46db-c57a-96d24fb403a5"
      },
      "execution_count": null,
      "outputs": [
        {
          "output_type": "error",
          "ename": "SyntaxError",
          "evalue": "ignored",
          "traceback": [
            "\u001b[0;36m  File \u001b[0;32m\"<ipython-input-77-41d8638a15bb>\"\u001b[0;36m, line \u001b[0;32m1\u001b[0m\n\u001b[0;31m    3_musketeers = [\"Athos\", \"Porthos\", \"Aramis\"]\u001b[0m\n\u001b[0m     ^\u001b[0m\n\u001b[0;31mSyntaxError\u001b[0m\u001b[0;31m:\u001b[0m invalid decimal literal\n"
          ]
        }
      ]
    },
    {
      "cell_type": "markdown",
      "source": [
        "## Built-in data types in Python\n",
        "\n",
        "Any data or information stored within a Python variable has a *type*. You can view the type of data stored within a variable using the `type` function."
      ],
      "metadata": {
        "id": "PMfhUHh6AHDf"
      }
    },
    {
      "cell_type": "code",
      "source": [
        "a_variable"
      ],
      "metadata": {
        "colab": {
          "base_uri": "https://localhost:8080/"
        },
        "id": "aONT1-8wATBb",
        "outputId": "54e182fd-a6b7-4bb9-8cbe-f63f43a3d36e"
      },
      "execution_count": null,
      "outputs": [
        {
          "output_type": "execute_result",
          "data": {
            "text/plain": [
              "23"
            ]
          },
          "metadata": {},
          "execution_count": 78
        }
      ]
    },
    {
      "cell_type": "code",
      "source": [
        "type(a_variable)"
      ],
      "metadata": {
        "colab": {
          "base_uri": "https://localhost:8080/"
        },
        "id": "OtOMsd3pATD-",
        "outputId": "340e6d25-7b81-4eea-fb4e-eabd9082f03e"
      },
      "execution_count": null,
      "outputs": [
        {
          "output_type": "execute_result",
          "data": {
            "text/plain": [
              "int"
            ]
          },
          "metadata": {},
          "execution_count": 79
        }
      ]
    },
    {
      "cell_type": "code",
      "source": [
        "is_today_Saturday"
      ],
      "metadata": {
        "colab": {
          "base_uri": "https://localhost:8080/"
        },
        "id": "PJmrgjuIATGp",
        "outputId": "18d7a94b-cb8a-4e95-9880-2fe8e97e56bd"
      },
      "execution_count": null,
      "outputs": [
        {
          "output_type": "execute_result",
          "data": {
            "text/plain": [
              "False"
            ]
          },
          "metadata": {},
          "execution_count": 80
        }
      ]
    },
    {
      "cell_type": "code",
      "source": [
        "type(is_today_Saturday)"
      ],
      "metadata": {
        "colab": {
          "base_uri": "https://localhost:8080/"
        },
        "id": "OjOU9aifATKN",
        "outputId": "29b7601e-8521-4bcd-8ed2-62f355babc55"
      },
      "execution_count": null,
      "outputs": [
        {
          "output_type": "execute_result",
          "data": {
            "text/plain": [
              "bool"
            ]
          },
          "metadata": {},
          "execution_count": 81
        }
      ]
    },
    {
      "cell_type": "code",
      "source": [
        "the_3_musketeers"
      ],
      "metadata": {
        "colab": {
          "base_uri": "https://localhost:8080/"
        },
        "id": "kcoXEv1iAbir",
        "outputId": "1e669d8d-90f9-4abc-a3a0-7458338a470d"
      },
      "execution_count": null,
      "outputs": [
        {
          "output_type": "execute_result",
          "data": {
            "text/plain": [
              "['Athos', 'Porthos', 'Aramis']"
            ]
          },
          "metadata": {},
          "execution_count": 82
        }
      ]
    },
    {
      "cell_type": "code",
      "source": [
        "type(the_3_musketeers)"
      ],
      "metadata": {
        "colab": {
          "base_uri": "https://localhost:8080/"
        },
        "id": "ei32evFAAeTp",
        "outputId": "52d87af0-bb78-4811-ec26-3a7f5ccb7f3f"
      },
      "execution_count": null,
      "outputs": [
        {
          "output_type": "execute_result",
          "data": {
            "text/plain": [
              "list"
            ]
          },
          "metadata": {},
          "execution_count": 83
        }
      ]
    },
    {
      "cell_type": "markdown",
      "source": [
        "Booleans are automatically converted to `int`s when used in arithmetic operations. `True` is converted to `1` and `False` is converted to `0`."
      ],
      "metadata": {
        "id": "ILAvB1-hArBN"
      }
    },
    {
      "cell_type": "code",
      "source": [
        "5 + False"
      ],
      "metadata": {
        "colab": {
          "base_uri": "https://localhost:8080/"
        },
        "id": "aCyVrZpQAgNj",
        "outputId": "5a96af27-a981-4aa4-b16e-8458eac0c158"
      },
      "execution_count": null,
      "outputs": [
        {
          "output_type": "execute_result",
          "data": {
            "text/plain": [
              "5"
            ]
          },
          "metadata": {},
          "execution_count": 84
        }
      ]
    },
    {
      "cell_type": "code",
      "source": [
        "3.0 + True"
      ],
      "metadata": {
        "colab": {
          "base_uri": "https://localhost:8080/"
        },
        "id": "q3ri0UAMAtEu",
        "outputId": "acfb92c9-5c52-44c3-d513-5b730b03ce39"
      },
      "execution_count": null,
      "outputs": [
        {
          "output_type": "execute_result",
          "data": {
            "text/plain": [
              "4.0"
            ]
          },
          "metadata": {},
          "execution_count": 86
        }
      ]
    },
    {
      "cell_type": "markdown",
      "source": [
        "Any value in Python can be converted to a Boolean using the `bool` function.\n",
        "\n",
        "Only the following values evaluate to `False` (they are often called *falsy* values):\n",
        "\n",
        "1. The value `False` itself\n",
        "2. The integer `0`\n",
        "3. The float `0.0`\n",
        "4. The empty value `None`\n",
        "5. The empty text `\"\"`\n",
        "6. The empty list `[]`\n",
        "7. The empty tuple `()`\n",
        "8. The empty dictionary `{}`\n",
        "9. The empty set `set()`\n",
        "10. The empty range `range(0)`\n",
        "\n",
        "Everything else evaluates to `True` (a value that evaluates to `True` is often called a *truthy* value)."
      ],
      "metadata": {
        "id": "3iyiIeo4A9Xq"
      }
    },
    {
      "cell_type": "code",
      "source": [
        "bool(True), bool(1), bool(2.0), bool(\"hello\"), bool([1,2]), bool((2,3)), bool(range(10))"
      ],
      "metadata": {
        "colab": {
          "base_uri": "https://localhost:8080/"
        },
        "id": "M23JsQ0wAwoU",
        "outputId": "ee21fa2d-d338-473f-9d7b-6be327e479a8"
      },
      "execution_count": null,
      "outputs": [
        {
          "output_type": "execute_result",
          "data": {
            "text/plain": [
              "(True, True, True, True, True, True, True)"
            ]
          },
          "metadata": {},
          "execution_count": 87
        }
      ]
    },
    {
      "cell_type": "code",
      "source": [
        "bool(False), bool(0), bool(0.0), bool(None), bool(\"\"), bool([]), bool(()), bool({}), bool(set()), bool(range(0))"
      ],
      "metadata": {
        "colab": {
          "base_uri": "https://localhost:8080/"
        },
        "id": "TUib26MhBBmc",
        "outputId": "94d8487e-6fcc-4525-92a6-0ba4ef866ab8"
      },
      "execution_count": null,
      "outputs": [
        {
          "output_type": "execute_result",
          "data": {
            "text/plain": [
              "(False, False, False, False, False, False, False, False, False, False)"
            ]
          },
          "metadata": {},
          "execution_count": 88
        }
      ]
    },
    {
      "cell_type": "markdown",
      "source": [
        "### None\n",
        "\n",
        "The None type includes a single value `None`, used to indicate the absence of a value. `None` has the type `NoneType`. It is often used to declare a variable whose value may be assigned later."
      ],
      "metadata": {
        "id": "uwofzA60BaKn"
      }
    },
    {
      "cell_type": "code",
      "source": [
        "nothing = None"
      ],
      "metadata": {
        "id": "SmTmUEWMBSpy"
      },
      "execution_count": null,
      "outputs": []
    },
    {
      "cell_type": "code",
      "source": [
        "type(nothing)"
      ],
      "metadata": {
        "colab": {
          "base_uri": "https://localhost:8080/"
        },
        "id": "TXX4585fBdie",
        "outputId": "8d5a0943-ed3d-4c06-933a-1a12ff4d8bd2"
      },
      "execution_count": null,
      "outputs": [
        {
          "output_type": "execute_result",
          "data": {
            "text/plain": [
              "NoneType"
            ]
          },
          "metadata": {},
          "execution_count": 90
        }
      ]
    },
    {
      "cell_type": "markdown",
      "source": [
        "You can use single quotes inside a string written with double quotes, and vice versa."
      ],
      "metadata": {
        "id": "pWL3q3AeBvAK"
      }
    },
    {
      "cell_type": "code",
      "source": [
        "my_favorite_movie = \"One Flew over the Cuckoo's Nest\""
      ],
      "metadata": {
        "id": "Kk-dV8xVBezI"
      },
      "execution_count": null,
      "outputs": []
    },
    {
      "cell_type": "code",
      "source": [
        "my_favorite_movie"
      ],
      "metadata": {
        "colab": {
          "base_uri": "https://localhost:8080/",
          "height": 36
        },
        "id": "UlkkMSlJBxxg",
        "outputId": "bc4976ca-22d2-47f0-a215-fb502b65fa7a"
      },
      "execution_count": null,
      "outputs": [
        {
          "output_type": "execute_result",
          "data": {
            "text/plain": [
              "\"One Flew over the Cuckoo's Nest\""
            ],
            "application/vnd.google.colaboratory.intrinsic+json": {
              "type": "string"
            }
          },
          "metadata": {},
          "execution_count": 92
        }
      ]
    },
    {
      "cell_type": "code",
      "source": [
        "my_favorite_pun = 'Thanks for explaining the word \"many\" to me, it means a lot.'"
      ],
      "metadata": {
        "id": "LvnSMqdEBzGu"
      },
      "execution_count": null,
      "outputs": []
    },
    {
      "cell_type": "code",
      "source": [
        "my_favorite_pun"
      ],
      "metadata": {
        "colab": {
          "base_uri": "https://localhost:8080/",
          "height": 36
        },
        "id": "Wv4UEw9xB0xh",
        "outputId": "a02c042a-43db-4249-d13b-c583597ce1c1"
      },
      "execution_count": null,
      "outputs": [
        {
          "output_type": "execute_result",
          "data": {
            "text/plain": [
              "'Thanks for explaining the word \"many\" to me, it means a lot.'"
            ],
            "application/vnd.google.colaboratory.intrinsic+json": {
              "type": "string"
            }
          },
          "metadata": {},
          "execution_count": 94
        }
      ]
    },
    {
      "cell_type": "markdown",
      "source": [
        "To create multiline strings, use three single quotes ''' or three double quotes \"\"\" to begin and end the string. Line breaks are represented using the newline character \\n"
      ],
      "metadata": {
        "id": "jJ71yNt4CiHK"
      }
    },
    {
      "cell_type": "code",
      "source": [
        "yet_another_pun = '''Son: \"Dad, can you tell me what a solar eclipse is?\"\n",
        "Dad: \"No sun.\"'''"
      ],
      "metadata": {
        "id": "ETuvKmP5CNUN"
      },
      "execution_count": null,
      "outputs": []
    },
    {
      "cell_type": "code",
      "source": [
        "yet_another_pun"
      ],
      "metadata": {
        "colab": {
          "base_uri": "https://localhost:8080/",
          "height": 36
        },
        "id": "3Zt5_Sp0CoMp",
        "outputId": "d2573fde-072c-4f35-d783-e26b89592979"
      },
      "execution_count": null,
      "outputs": [
        {
          "output_type": "execute_result",
          "data": {
            "text/plain": [
              "'Son: \"Dad, can you tell me what a solar eclipse is?\" \\nDad: \"No sun.\"'"
            ],
            "application/vnd.google.colaboratory.intrinsic+json": {
              "type": "string"
            }
          },
          "metadata": {},
          "execution_count": 98
        }
      ]
    },
    {
      "cell_type": "markdown",
      "source": [
        "Multiline strings are best displayed using the `print` function."
      ],
      "metadata": {
        "id": "OVmXFilrCpvh"
      }
    },
    {
      "cell_type": "code",
      "source": [
        "print(yet_another_pun)"
      ],
      "metadata": {
        "colab": {
          "base_uri": "https://localhost:8080/"
        },
        "id": "AmDsK--ICoOO",
        "outputId": "a9e4059e-557b-4935-c7ed-c15eb3197778"
      },
      "execution_count": null,
      "outputs": [
        {
          "output_type": "stream",
          "name": "stdout",
          "text": [
            "Son: \"Dad, can you tell me what a solar eclipse is?\" \n",
            "Dad: \"No sun.\"\n"
          ]
        }
      ]
    },
    {
      "cell_type": "markdown",
      "source": [
        "You can check the length of a string using the `len` function."
      ],
      "metadata": {
        "id": "nVq0t69EC2e9"
      }
    },
    {
      "cell_type": "code",
      "source": [
        "len(my_favorite_movie)"
      ],
      "metadata": {
        "colab": {
          "base_uri": "https://localhost:8080/"
        },
        "id": "Az9XNb_mCoSZ",
        "outputId": "cfc3f82a-2262-4398-a436-43c262cec3d1"
      },
      "execution_count": null,
      "outputs": [
        {
          "output_type": "execute_result",
          "data": {
            "text/plain": [
              "31"
            ]
          },
          "metadata": {},
          "execution_count": 100
        }
      ]
    },
    {
      "cell_type": "markdown",
      "source": [
        "A string can be converted into a list of characters using `list` function."
      ],
      "metadata": {
        "id": "wiWAFXm_DV4D"
      }
    },
    {
      "cell_type": "code",
      "source": [
        "today = 'saturday'"
      ],
      "metadata": {
        "id": "6qmgW0LlCoUd"
      },
      "execution_count": null,
      "outputs": []
    },
    {
      "cell_type": "code",
      "source": [
        "list(today)"
      ],
      "metadata": {
        "colab": {
          "base_uri": "https://localhost:8080/"
        },
        "id": "AYqr6HkzCoWV",
        "outputId": "46e8c8ab-9a89-4d64-ee41-82c0e97039d9"
      },
      "execution_count": null,
      "outputs": [
        {
          "output_type": "execute_result",
          "data": {
            "text/plain": [
              "['s', 'a', 't', 'u', 'r', 'd', 'a', 'y']"
            ]
          },
          "metadata": {},
          "execution_count": 114
        }
      ]
    },
    {
      "cell_type": "markdown",
      "source": [
        "You can access individual characters within a string using the [] indexing notation."
      ],
      "metadata": {
        "id": "7pJJ4watDfAg"
      }
    },
    {
      "cell_type": "code",
      "source": [
        "today[3]"
      ],
      "metadata": {
        "colab": {
          "base_uri": "https://localhost:8080/",
          "height": 36
        },
        "id": "XIK3B4MTCoYg",
        "outputId": "e223d99a-b12c-4d8c-fe8a-6ea4f6d414d8"
      },
      "execution_count": null,
      "outputs": [
        {
          "output_type": "execute_result",
          "data": {
            "text/plain": [
              "'u'"
            ],
            "application/vnd.google.colaboratory.intrinsic+json": {
              "type": "string"
            }
          },
          "metadata": {},
          "execution_count": 115
        }
      ]
    },
    {
      "cell_type": "code",
      "source": [
        "today[-1]"
      ],
      "metadata": {
        "colab": {
          "base_uri": "https://localhost:8080/",
          "height": 36
        },
        "id": "_1UGzXYmCoaO",
        "outputId": "049a6bcd-13a8-45b1-af0d-de6eb24d8b65"
      },
      "execution_count": null,
      "outputs": [
        {
          "output_type": "execute_result",
          "data": {
            "text/plain": [
              "'y'"
            ],
            "application/vnd.google.colaboratory.intrinsic+json": {
              "type": "string"
            }
          },
          "metadata": {},
          "execution_count": 116
        }
      ]
    },
    {
      "cell_type": "markdown",
      "source": [
        "You can access a part of a string using by providing a `start:end` range instead of a single index in `[]`."
      ],
      "metadata": {
        "id": "UGQWKK3xDyjD"
      }
    },
    {
      "cell_type": "code",
      "source": [
        "today[2:4]"
      ],
      "metadata": {
        "colab": {
          "base_uri": "https://localhost:8080/",
          "height": 36
        },
        "id": "S67O3fauCocI",
        "outputId": "87c8deee-23f0-4ed0-af3e-986c47dc5c9c"
      },
      "execution_count": null,
      "outputs": [
        {
          "output_type": "execute_result",
          "data": {
            "text/plain": [
              "'tu'"
            ],
            "application/vnd.google.colaboratory.intrinsic+json": {
              "type": "string"
            }
          },
          "metadata": {},
          "execution_count": 117
        }
      ]
    },
    {
      "cell_type": "markdown",
      "source": [
        "You can also check whether a string contains a some text using the `in` operator."
      ],
      "metadata": {
        "id": "7EOCSU2VD8IH"
      }
    },
    {
      "cell_type": "code",
      "source": [
        "'a' in today"
      ],
      "metadata": {
        "colab": {
          "base_uri": "https://localhost:8080/"
        },
        "id": "ciPU9SlbCoeO",
        "outputId": "553085ce-30e2-4e4e-e353-b8e6a58395ca"
      },
      "execution_count": null,
      "outputs": [
        {
          "output_type": "execute_result",
          "data": {
            "text/plain": [
              "True"
            ]
          },
          "metadata": {},
          "execution_count": 118
        }
      ]
    },
    {
      "cell_type": "code",
      "source": [
        "'z' in today"
      ],
      "metadata": {
        "colab": {
          "base_uri": "https://localhost:8080/"
        },
        "id": "ik-2v9MeCogP",
        "outputId": "2199561c-85a5-404a-ef2d-69bf96500f3c"
      },
      "execution_count": null,
      "outputs": [
        {
          "output_type": "execute_result",
          "data": {
            "text/plain": [
              "False"
            ]
          },
          "metadata": {},
          "execution_count": 119
        }
      ]
    },
    {
      "cell_type": "markdown",
      "source": [
        "Two or more strings can be joined or concatenated using the + operator. Be careful while concatenating strings, sometimes you may need to add a space character \" \" between words."
      ],
      "metadata": {
        "id": "s08UqEGGEKY9"
      }
    },
    {
      "cell_type": "code",
      "source": [
        "full_name = \"Derek O'Brien\""
      ],
      "metadata": {
        "id": "tFMjWfVCCoiY"
      },
      "execution_count": null,
      "outputs": []
    },
    {
      "cell_type": "code",
      "source": [
        "greeting = \"Hello\""
      ],
      "metadata": {
        "id": "zAWnH9NXCokh"
      },
      "execution_count": null,
      "outputs": []
    },
    {
      "cell_type": "code",
      "source": [
        "greeting + full_name"
      ],
      "metadata": {
        "colab": {
          "base_uri": "https://localhost:8080/",
          "height": 36
        },
        "id": "38Grg1OxComT",
        "outputId": "ffcf0ab1-5665-427f-e4e9-2fd43457fa47"
      },
      "execution_count": null,
      "outputs": [
        {
          "output_type": "execute_result",
          "data": {
            "text/plain": [
              "\"HelloDerek O'Brien\""
            ],
            "application/vnd.google.colaboratory.intrinsic+json": {
              "type": "string"
            }
          },
          "metadata": {},
          "execution_count": 111
        }
      ]
    },
    {
      "cell_type": "code",
      "source": [
        "greeting + \" \" + full_name + \"!\" # additional space"
      ],
      "metadata": {
        "colab": {
          "base_uri": "https://localhost:8080/",
          "height": 36
        },
        "id": "yKviKDmUEQK2",
        "outputId": "48fdbe77-0c7c-461a-96ef-561be2f603d9"
      },
      "execution_count": null,
      "outputs": [
        {
          "output_type": "execute_result",
          "data": {
            "text/plain": [
              "\"Hello Derek O'Brien!\""
            ],
            "application/vnd.google.colaboratory.intrinsic+json": {
              "type": "string"
            }
          },
          "metadata": {},
          "execution_count": 112
        }
      ]
    },
    {
      "cell_type": "markdown",
      "source": [
        "Strings in Python have many built-in *methods* that are used to manipulate them. Let's try out some common string methods.\n",
        "\n",
        "> **Methods**: Methods are functions associated with data types and are accessed using the `.` notation e.g. `variable_name.method()` or `\"a string\".method()`. Methods are a powerful technique for associating common operations with values of specific data types.\n",
        "\n",
        "The `.lower()`, `.upper()` and `.capitalize()` methods are used to change the case of the characters."
      ],
      "metadata": {
        "id": "3gLm5qFREaSZ"
      }
    },
    {
      "cell_type": "code",
      "source": [
        "today = \"Saturday\"\n",
        "today"
      ],
      "metadata": {
        "colab": {
          "base_uri": "https://localhost:8080/",
          "height": 36
        },
        "id": "0Z69m62gERnI",
        "outputId": "efef0c7a-d907-4759-b0ad-2722b14627fa"
      },
      "execution_count": null,
      "outputs": [
        {
          "output_type": "execute_result",
          "data": {
            "text/plain": [
              "'Saturday'"
            ],
            "application/vnd.google.colaboratory.intrinsic+json": {
              "type": "string"
            }
          },
          "metadata": {},
          "execution_count": 122
        }
      ]
    },
    {
      "cell_type": "code",
      "source": [
        "today.lower()"
      ],
      "metadata": {
        "colab": {
          "base_uri": "https://localhost:8080/",
          "height": 36
        },
        "id": "2nvtftwNE08_",
        "outputId": "aa1bc3f6-b816-4ec0-be17-ef63a6d9c639"
      },
      "execution_count": null,
      "outputs": [
        {
          "output_type": "execute_result",
          "data": {
            "text/plain": [
              "'saturday'"
            ],
            "application/vnd.google.colaboratory.intrinsic+json": {
              "type": "string"
            }
          },
          "metadata": {},
          "execution_count": 123
        }
      ]
    },
    {
      "cell_type": "code",
      "source": [
        "\"saturday\".upper()"
      ],
      "metadata": {
        "colab": {
          "base_uri": "https://localhost:8080/",
          "height": 36
        },
        "id": "sMy1le4SE6MW",
        "outputId": "3dde86f5-4214-4187-8def-9c391d840c02"
      },
      "execution_count": null,
      "outputs": [
        {
          "output_type": "execute_result",
          "data": {
            "text/plain": [
              "'SATURDAY'"
            ],
            "application/vnd.google.colaboratory.intrinsic+json": {
              "type": "string"
            }
          },
          "metadata": {},
          "execution_count": 124
        }
      ]
    },
    {
      "cell_type": "code",
      "source": [
        "\"monday\".capitalize() # changes first character to uppercase"
      ],
      "metadata": {
        "colab": {
          "base_uri": "https://localhost:8080/",
          "height": 36
        },
        "id": "3xb3jQ48E8CI",
        "outputId": "8b56f441-ee80-4b80-a660-2670613d9f49"
      },
      "execution_count": null,
      "outputs": [
        {
          "output_type": "execute_result",
          "data": {
            "text/plain": [
              "'Monday'"
            ],
            "application/vnd.google.colaboratory.intrinsic+json": {
              "type": "string"
            }
          },
          "metadata": {},
          "execution_count": 125
        }
      ]
    },
    {
      "cell_type": "markdown",
      "source": [
        "The `.replace` method replaces a part of the string with another string. It takes the portion to be replaced and the replacement text as *inputs* or *arguments*."
      ],
      "metadata": {
        "id": "ZAXk9PTIFKtw"
      }
    },
    {
      "cell_type": "code",
      "source": [
        "another_day = today.replace(\"Satur\", \"Wednes\")"
      ],
      "metadata": {
        "id": "2DqfCTJFE-w3"
      },
      "execution_count": null,
      "outputs": []
    },
    {
      "cell_type": "code",
      "source": [
        "another_day"
      ],
      "metadata": {
        "colab": {
          "base_uri": "https://localhost:8080/",
          "height": 36
        },
        "id": "Hp3T0EYJFS-B",
        "outputId": "8e44753d-b496-4913-84e8-b1d146f975e6"
      },
      "execution_count": null,
      "outputs": [
        {
          "output_type": "execute_result",
          "data": {
            "text/plain": [
              "'Wednesday'"
            ],
            "application/vnd.google.colaboratory.intrinsic+json": {
              "type": "string"
            }
          },
          "metadata": {},
          "execution_count": 127
        }
      ]
    },
    {
      "cell_type": "markdown",
      "source": [
        "Note that `replace` returns a new string, and the original string is not modified."
      ],
      "metadata": {
        "id": "rH8_btwrFcXv"
      }
    },
    {
      "cell_type": "code",
      "source": [
        "today"
      ],
      "metadata": {
        "colab": {
          "base_uri": "https://localhost:8080/",
          "height": 36
        },
        "id": "xLeqXNElFUmy",
        "outputId": "cd58e0a0-7634-4a28-c7a6-5405ce6c5323"
      },
      "execution_count": null,
      "outputs": [
        {
          "output_type": "execute_result",
          "data": {
            "text/plain": [
              "'Saturday'"
            ],
            "application/vnd.google.colaboratory.intrinsic+json": {
              "type": "string"
            }
          },
          "metadata": {},
          "execution_count": 128
        }
      ]
    },
    {
      "cell_type": "markdown",
      "source": [
        "The `.split` method splits a string into a list of strings at every occurrence of provided character(s)."
      ],
      "metadata": {
        "id": "Xf8biFZZFifi"
      }
    },
    {
      "cell_type": "code",
      "source": [
        "\"Sun,Mon,Tue,Wed,Thu,Fri,Sat\".split(\",\")"
      ],
      "metadata": {
        "colab": {
          "base_uri": "https://localhost:8080/"
        },
        "id": "p2vLfyEkFee_",
        "outputId": "3f7e8ed7-1ea8-43b1-9db7-8b80378a54d6"
      },
      "execution_count": null,
      "outputs": [
        {
          "output_type": "execute_result",
          "data": {
            "text/plain": [
              "['Sun', 'Mon', 'Tue', 'Wed', 'Thu', 'Fri', 'Sat']"
            ]
          },
          "metadata": {},
          "execution_count": 129
        }
      ]
    },
    {
      "cell_type": "markdown",
      "source": [
        "The `.strip` method removes whitespace characters from the beginning and end of a string."
      ],
      "metadata": {
        "id": "EQ4BesDkFoaG"
      }
    },
    {
      "cell_type": "code",
      "source": [
        "a_long_line = \"       This is a long line with some space before, after,     and some space in the middle..    \""
      ],
      "metadata": {
        "id": "l1YMEUUuFllG"
      },
      "execution_count": null,
      "outputs": []
    },
    {
      "cell_type": "code",
      "source": [
        "a_long_line_stripped = a_long_line.strip()"
      ],
      "metadata": {
        "id": "uaTpbjYDFuw8"
      },
      "execution_count": null,
      "outputs": []
    },
    {
      "cell_type": "code",
      "source": [
        "a_long_line_stripped"
      ],
      "metadata": {
        "colab": {
          "base_uri": "https://localhost:8080/",
          "height": 36
        },
        "id": "Q5xW74BwFuyf",
        "outputId": "97e309da-a81c-4d56-fa2b-7c394c37d2d5"
      },
      "execution_count": null,
      "outputs": [
        {
          "output_type": "execute_result",
          "data": {
            "text/plain": [
              "'This is a long line with some space before, after,     and some space in the middle..'"
            ],
            "application/vnd.google.colaboratory.intrinsic+json": {
              "type": "string"
            }
          },
          "metadata": {},
          "execution_count": 134
        }
      ]
    },
    {
      "cell_type": "markdown",
      "source": [
        "The `.format` method combines values of other data types, e.g., integers, floats, booleans, lists, etc. with strings. You can use `format` to construct output messages for display."
      ],
      "metadata": {
        "id": "wxjMC-COZWoH"
      }
    },
    {
      "cell_type": "code",
      "source": [
        "# Input variables\n",
        "cost_of_ice_bag = 1.25\n",
        "profit_margin = .2\n",
        "number_of_bags = 500\n",
        "\n",
        "# Template for output message\n",
        "output_template = \"\"\"If a grocery store sells ice bags at $ {} per bag, with a profit margin of {} %,\n",
        "then the total profit it makes by selling {} ice bags is $ {}.\"\"\"\n",
        "\n",
        "print(output_template)"
      ],
      "metadata": {
        "id": "MrCqmImJFu0r",
        "colab": {
          "base_uri": "https://localhost:8080/"
        },
        "outputId": "c97b81e6-2e86-4ff0-9e6a-d9fd8502f871"
      },
      "execution_count": null,
      "outputs": [
        {
          "output_type": "stream",
          "name": "stdout",
          "text": [
            "If a grocery store sells ice bags at $ {} per bag, with a profit margin of {} %, \n",
            "then the total profit it makes by selling {} ice bags is $ {}.\n"
          ]
        }
      ]
    },
    {
      "cell_type": "code",
      "source": [
        "# Inserting values into the string\n",
        "total_profit = cost_of_ice_bag * profit_margin * number_of_bags\n",
        "output_message = output_template.format(cost_of_ice_bag, profit_margin*100, number_of_bags, total_profit)\n",
        "\n",
        "print(output_message)"
      ],
      "metadata": {
        "id": "bfgr_3K6Fu2D",
        "colab": {
          "base_uri": "https://localhost:8080/"
        },
        "outputId": "3d1eb5e9-8e75-43c5-b0dc-9fc53003907b"
      },
      "execution_count": null,
      "outputs": [
        {
          "output_type": "stream",
          "name": "stdout",
          "text": [
            "If a grocery store sells ice bags at $ 1.25 per bag, with a profit margin of 20.0 %, \n",
            "then the total profit it makes by selling 500 ice bags is $ 125.0.\n"
          ]
        }
      ]
    },
    {
      "cell_type": "markdown",
      "source": [
        "You can `str` to convert a value of any data type into a string."
      ],
      "metadata": {
        "id": "u4f2n84XaE0s"
      }
    },
    {
      "cell_type": "code",
      "source": [
        "str(23),str(23.432),str(True)"
      ],
      "metadata": {
        "id": "rPgFo44OFu3_",
        "colab": {
          "base_uri": "https://localhost:8080/"
        },
        "outputId": "6cadea13-41be-401a-a9ba-73268cf80919"
      },
      "execution_count": null,
      "outputs": [
        {
          "output_type": "execute_result",
          "data": {
            "text/plain": [
              "('23', '23.432', 'True')"
            ]
          },
          "metadata": {},
          "execution_count": 4
        }
      ]
    },
    {
      "cell_type": "code",
      "source": [
        "the_3_musketeers = [\"Athos\", \"Porthos\", \"Aramis\"]\n",
        "str(the_3_musketeers)"
      ],
      "metadata": {
        "id": "DXi5WcCJFu52",
        "colab": {
          "base_uri": "https://localhost:8080/",
          "height": 36
        },
        "outputId": "9657817c-09ba-4748-c82c-375d97b1e8dd"
      },
      "execution_count": null,
      "outputs": [
        {
          "output_type": "execute_result",
          "data": {
            "text/plain": [
              "\"['Athos', 'Porthos', 'Aramis']\""
            ],
            "application/vnd.google.colaboratory.intrinsic+json": {
              "type": "string"
            }
          },
          "metadata": {},
          "execution_count": 5
        }
      ]
    },
    {
      "cell_type": "markdown",
      "source": [
        "## List\n",
        "\n",
        "A list in Python is an ordered collection of values. Lists can hold values of different data types and support operations to add, remove, and change values. Lists have the type `list`.\n",
        "\n",
        "To create a list, enclose a sequence of values within square brackets `[` and `]`, separated by commas."
      ],
      "metadata": {
        "id": "Vv-unatQadwi"
      }
    },
    {
      "cell_type": "code",
      "source": [
        "fruits = ['apple', 'banana', 'cherry']"
      ],
      "metadata": {
        "id": "znvTFTbJFu7u"
      },
      "execution_count": null,
      "outputs": []
    },
    {
      "cell_type": "code",
      "source": [
        "fruits"
      ],
      "metadata": {
        "id": "dxQ1iLQMFu9z",
        "colab": {
          "base_uri": "https://localhost:8080/"
        },
        "outputId": "650a9456-7476-4606-efe3-e2474489a57d"
      },
      "execution_count": null,
      "outputs": [
        {
          "output_type": "execute_result",
          "data": {
            "text/plain": [
              "['apple', 'banana', 'cherry']"
            ]
          },
          "metadata": {},
          "execution_count": 7
        }
      ]
    },
    {
      "cell_type": "code",
      "source": [
        "type(fruits)"
      ],
      "metadata": {
        "id": "EiqMAcyLFvDo",
        "colab": {
          "base_uri": "https://localhost:8080/"
        },
        "outputId": "2b4269af-3bce-4d1e-b49f-5f7e1d45ee2b"
      },
      "execution_count": null,
      "outputs": [
        {
          "output_type": "execute_result",
          "data": {
            "text/plain": [
              "list"
            ]
          },
          "metadata": {},
          "execution_count": 8
        }
      ]
    },
    {
      "cell_type": "markdown",
      "source": [
        "Let's try creating a list containing values of different data types, including another list."
      ],
      "metadata": {
        "id": "Cs6ezT0GauvN"
      }
    },
    {
      "cell_type": "code",
      "source": [
        "a_list = [23, 'hello', None, 3.14, fruits, 3 <= 5]"
      ],
      "metadata": {
        "id": "K73m9GiuFvJE"
      },
      "execution_count": null,
      "outputs": []
    },
    {
      "cell_type": "code",
      "source": [
        "a_list"
      ],
      "metadata": {
        "id": "_TWVXTD4FvKp",
        "colab": {
          "base_uri": "https://localhost:8080/"
        },
        "outputId": "0ba1c787-18fd-48a7-b1ac-f714202d477b"
      },
      "execution_count": null,
      "outputs": [
        {
          "output_type": "execute_result",
          "data": {
            "text/plain": [
              "[23, 'hello', None, 3.14, ['apple', 'banana', 'cherry'], True]"
            ]
          },
          "metadata": {},
          "execution_count": 10
        }
      ]
    },
    {
      "cell_type": "markdown",
      "source": [
        "To determine the number of values in a list, use the `len` function. You can use `len`  to determine the number of values in several other data types."
      ],
      "metadata": {
        "id": "Dp7Mfd3oa9OV"
      }
    },
    {
      "cell_type": "code",
      "source": [
        "len(fruits)"
      ],
      "metadata": {
        "colab": {
          "base_uri": "https://localhost:8080/"
        },
        "id": "7ItD3U49azyJ",
        "outputId": "12e5ab20-307a-4922-8435-b9bd90de2fd2"
      },
      "execution_count": null,
      "outputs": [
        {
          "output_type": "execute_result",
          "data": {
            "text/plain": [
              "3"
            ]
          },
          "metadata": {},
          "execution_count": 11
        }
      ]
    },
    {
      "cell_type": "code",
      "source": [
        "print(\"Number of fruits:\", len(fruits))"
      ],
      "metadata": {
        "colab": {
          "base_uri": "https://localhost:8080/"
        },
        "id": "LuvasSCsaz0G",
        "outputId": "7cc4ee1d-3d24-4236-b7e8-1be9d80d7751"
      },
      "execution_count": null,
      "outputs": [
        {
          "output_type": "stream",
          "name": "stdout",
          "text": [
            "Number of fruits: 3\n"
          ]
        }
      ]
    },
    {
      "cell_type": "markdown",
      "source": [
        "You can access an element from the list using its *index*, e.g., `fruits[2]` returns the element at index 2 within the list `fruits`. The starting index of a list is 0."
      ],
      "metadata": {
        "id": "PzdAifCubIlg"
      }
    },
    {
      "cell_type": "code",
      "source": [
        "fruits[0]"
      ],
      "metadata": {
        "colab": {
          "base_uri": "https://localhost:8080/",
          "height": 36
        },
        "id": "VKaJFheBaz3p",
        "outputId": "10ad4be9-f34e-416e-f8be-e4abbb77fa60"
      },
      "execution_count": null,
      "outputs": [
        {
          "output_type": "execute_result",
          "data": {
            "text/plain": [
              "'apple'"
            ],
            "application/vnd.google.colaboratory.intrinsic+json": {
              "type": "string"
            }
          },
          "metadata": {},
          "execution_count": 14
        }
      ]
    },
    {
      "cell_type": "code",
      "source": [
        "fruits[1]"
      ],
      "metadata": {
        "colab": {
          "base_uri": "https://localhost:8080/",
          "height": 36
        },
        "id": "wPAoqhllaz5H",
        "outputId": "dd2c7afe-777e-448c-c7a9-ea4e130a0c21"
      },
      "execution_count": null,
      "outputs": [
        {
          "output_type": "execute_result",
          "data": {
            "text/plain": [
              "'banana'"
            ],
            "application/vnd.google.colaboratory.intrinsic+json": {
              "type": "string"
            }
          },
          "metadata": {},
          "execution_count": 15
        }
      ]
    },
    {
      "cell_type": "code",
      "source": [
        "fruits[3]"
      ],
      "metadata": {
        "colab": {
          "base_uri": "https://localhost:8080/",
          "height": 171
        },
        "id": "EOPkOThSaz7P",
        "outputId": "f6922bb7-a8cd-41e9-9226-595d80788e6a"
      },
      "execution_count": null,
      "outputs": [
        {
          "output_type": "error",
          "ename": "IndexError",
          "evalue": "ignored",
          "traceback": [
            "\u001b[0;31m---------------------------------------------------------------------------\u001b[0m",
            "\u001b[0;31mIndexError\u001b[0m                                Traceback (most recent call last)",
            "\u001b[0;32m<ipython-input-16-7ceeafd384d7>\u001b[0m in \u001b[0;36m<cell line: 1>\u001b[0;34m()\u001b[0m\n\u001b[0;32m----> 1\u001b[0;31m \u001b[0mfruits\u001b[0m\u001b[0;34m[\u001b[0m\u001b[0;36m3\u001b[0m\u001b[0;34m]\u001b[0m\u001b[0;34m\u001b[0m\u001b[0;34m\u001b[0m\u001b[0m\n\u001b[0m",
            "\u001b[0;31mIndexError\u001b[0m: list index out of range"
          ]
        }
      ]
    },
    {
      "cell_type": "code",
      "source": [
        "fruits[-1]"
      ],
      "metadata": {
        "colab": {
          "base_uri": "https://localhost:8080/",
          "height": 36
        },
        "id": "0EOzVXQoaz8x",
        "outputId": "b62bcb9a-2f18-4654-be44-1acf8a12b5f2"
      },
      "execution_count": null,
      "outputs": [
        {
          "output_type": "execute_result",
          "data": {
            "text/plain": [
              "'cherry'"
            ],
            "application/vnd.google.colaboratory.intrinsic+json": {
              "type": "string"
            }
          },
          "metadata": {},
          "execution_count": 17
        }
      ]
    },
    {
      "cell_type": "markdown",
      "source": [
        "You can also access a range of values from the list. The result is itself a list. Let us look at some examples."
      ],
      "metadata": {
        "id": "jtyRC_FabcVs"
      }
    },
    {
      "cell_type": "code",
      "source": [
        "a_list"
      ],
      "metadata": {
        "colab": {
          "base_uri": "https://localhost:8080/"
        },
        "id": "DD9MtBUOaz-w",
        "outputId": "bc581069-08e0-47f9-aa86-bf135d18dde4"
      },
      "execution_count": null,
      "outputs": [
        {
          "output_type": "execute_result",
          "data": {
            "text/plain": [
              "[23, 'hello', None, 3.14, ['apple', 'banana', 'cherry'], True]"
            ]
          },
          "metadata": {},
          "execution_count": 18
        }
      ]
    },
    {
      "cell_type": "code",
      "source": [
        "len(a_list)"
      ],
      "metadata": {
        "colab": {
          "base_uri": "https://localhost:8080/"
        },
        "id": "pYldOiEpa0Ac",
        "outputId": "c397508e-6ebf-41cb-d49d-ea81cdc4e2aa"
      },
      "execution_count": null,
      "outputs": [
        {
          "output_type": "execute_result",
          "data": {
            "text/plain": [
              "6"
            ]
          },
          "metadata": {},
          "execution_count": 19
        }
      ]
    },
    {
      "cell_type": "code",
      "source": [
        "a_list[2:5]"
      ],
      "metadata": {
        "colab": {
          "base_uri": "https://localhost:8080/"
        },
        "id": "8JDP5XmKa0Cq",
        "outputId": "2f5c39ca-9bc5-4e89-9981-ffa518c3fc41"
      },
      "execution_count": null,
      "outputs": [
        {
          "output_type": "execute_result",
          "data": {
            "text/plain": [
              "[None, 3.14, ['apple', 'banana', 'cherry']]"
            ]
          },
          "metadata": {},
          "execution_count": 20
        }
      ]
    },
    {
      "cell_type": "markdown",
      "source": [
        "You can also change the value at a specific index within a list using the assignment operation."
      ],
      "metadata": {
        "id": "hJKM2Gz3bv1l"
      }
    },
    {
      "cell_type": "code",
      "source": [
        "fruits"
      ],
      "metadata": {
        "colab": {
          "base_uri": "https://localhost:8080/"
        },
        "id": "TI4kpKnya0E-",
        "outputId": "69710d7e-cd4d-45b6-e1ed-a2e52e2e3856"
      },
      "execution_count": null,
      "outputs": [
        {
          "output_type": "execute_result",
          "data": {
            "text/plain": [
              "['apple', 'banana', 'cherry']"
            ]
          },
          "metadata": {},
          "execution_count": 21
        }
      ]
    },
    {
      "cell_type": "code",
      "source": [
        "fruits[1] = 'blueberry'"
      ],
      "metadata": {
        "id": "iJcUmePSa0GZ"
      },
      "execution_count": null,
      "outputs": []
    },
    {
      "cell_type": "code",
      "source": [
        "fruits"
      ],
      "metadata": {
        "colab": {
          "base_uri": "https://localhost:8080/"
        },
        "id": "Ex9IPWf4a0IU",
        "outputId": "f08c86e7-d2c6-4d5a-e30a-a36b98606716"
      },
      "execution_count": null,
      "outputs": [
        {
          "output_type": "execute_result",
          "data": {
            "text/plain": [
              "['apple', 'blueberry', 'cherry']"
            ]
          },
          "metadata": {},
          "execution_count": 23
        }
      ]
    },
    {
      "cell_type": "markdown",
      "source": [
        "A new value can be added to the end of a list using the `append` method."
      ],
      "metadata": {
        "id": "434eufMMb945"
      }
    },
    {
      "cell_type": "code",
      "source": [
        "fruits.append('dates')"
      ],
      "metadata": {
        "id": "t6RurGSRa0Qx"
      },
      "execution_count": null,
      "outputs": []
    },
    {
      "cell_type": "code",
      "source": [
        "fruits"
      ],
      "metadata": {
        "colab": {
          "base_uri": "https://localhost:8080/"
        },
        "id": "TPg3y704a0WT",
        "outputId": "661906df-1c3f-4bc5-9b95-3822e581a7ed"
      },
      "execution_count": null,
      "outputs": [
        {
          "output_type": "execute_result",
          "data": {
            "text/plain": [
              "['apple', 'blueberry', 'cherry', 'dates']"
            ]
          },
          "metadata": {},
          "execution_count": 25
        }
      ]
    },
    {
      "cell_type": "markdown",
      "source": [
        "You can remove a value from a list using the `remove` method."
      ],
      "metadata": {
        "id": "n-o9vTRHcHJO"
      }
    },
    {
      "cell_type": "code",
      "source": [
        "fruits.remove('blueberry')"
      ],
      "metadata": {
        "id": "iog0JD1Ha0ZL"
      },
      "execution_count": null,
      "outputs": []
    },
    {
      "cell_type": "code",
      "source": [
        "fruits"
      ],
      "metadata": {
        "colab": {
          "base_uri": "https://localhost:8080/"
        },
        "id": "dsTUEVrBa0c1",
        "outputId": "cab2f479-f8b3-4112-f949-dded2f4f3440"
      },
      "execution_count": null,
      "outputs": [
        {
          "output_type": "execute_result",
          "data": {
            "text/plain": [
              "['apple', 'cherry', 'dates']"
            ]
          },
          "metadata": {},
          "execution_count": 27
        }
      ]
    },
    {
      "cell_type": "markdown",
      "source": [
        "\n",
        "If a list has multiple instances of the value passed to the .remove() method, only the first occurrence of that value will be removed from the list."
      ],
      "metadata": {
        "id": "dtS9tuXVctsa"
      }
    },
    {
      "cell_type": "code",
      "source": [
        "my_list = [1, 2, 3, 2, 4, 2, 5]\n",
        "\n",
        "# Removing the value 2\n",
        "my_list.remove(2)"
      ],
      "metadata": {
        "id": "N3o6LTZicr97"
      },
      "execution_count": null,
      "outputs": []
    },
    {
      "cell_type": "code",
      "source": [
        "my_list"
      ],
      "metadata": {
        "id": "wIpctOVJFvM5",
        "colab": {
          "base_uri": "https://localhost:8080/"
        },
        "outputId": "ef286094-0ee3-4fba-9766-b21896c1bef2"
      },
      "execution_count": null,
      "outputs": [
        {
          "output_type": "execute_result",
          "data": {
            "text/plain": [
              "[1, 3, 2, 4, 2, 5]"
            ]
          },
          "metadata": {},
          "execution_count": 29
        }
      ]
    },
    {
      "cell_type": "markdown",
      "source": [
        "To remove an element from a specific index, use the `pop` method. The method also returns the removed element."
      ],
      "metadata": {
        "id": "-vxEJruXc8wq"
      }
    },
    {
      "cell_type": "code",
      "source": [
        "fruits"
      ],
      "metadata": {
        "colab": {
          "base_uri": "https://localhost:8080/"
        },
        "id": "NKMkoaT5cMcV",
        "outputId": "efcb3504-7188-4e51-b7e7-7bcb63d6563f"
      },
      "execution_count": null,
      "outputs": [
        {
          "output_type": "execute_result",
          "data": {
            "text/plain": [
              "['apple', 'cherry', 'dates']"
            ]
          },
          "metadata": {},
          "execution_count": 30
        }
      ]
    },
    {
      "cell_type": "code",
      "source": [
        "fruits.pop(1)"
      ],
      "metadata": {
        "colab": {
          "base_uri": "https://localhost:8080/",
          "height": 36
        },
        "id": "XHaZaim3cMeV",
        "outputId": "4523cdae-6f69-4468-d9b9-43575a6327f7"
      },
      "execution_count": null,
      "outputs": [
        {
          "output_type": "execute_result",
          "data": {
            "text/plain": [
              "'cherry'"
            ],
            "application/vnd.google.colaboratory.intrinsic+json": {
              "type": "string"
            }
          },
          "metadata": {},
          "execution_count": 31
        }
      ]
    },
    {
      "cell_type": "code",
      "source": [
        "fruits"
      ],
      "metadata": {
        "colab": {
          "base_uri": "https://localhost:8080/"
        },
        "id": "LR_jv46gcMgC",
        "outputId": "6c1e8bf0-710b-4d32-a279-ac78aadba970"
      },
      "execution_count": null,
      "outputs": [
        {
          "output_type": "execute_result",
          "data": {
            "text/plain": [
              "['apple', 'dates']"
            ]
          },
          "metadata": {},
          "execution_count": 32
        }
      ]
    },
    {
      "cell_type": "markdown",
      "source": [
        "If no index is provided, the `pop` method removes the last element of the list."
      ],
      "metadata": {
        "id": "n68AtpC5dIWt"
      }
    },
    {
      "cell_type": "code",
      "source": [
        "fruits.pop()"
      ],
      "metadata": {
        "colab": {
          "base_uri": "https://localhost:8080/",
          "height": 36
        },
        "id": "FU9rMzXJcMhs",
        "outputId": "582a3715-42db-4fad-b4ba-da6d6eb30271"
      },
      "execution_count": null,
      "outputs": [
        {
          "output_type": "execute_result",
          "data": {
            "text/plain": [
              "'dates'"
            ],
            "application/vnd.google.colaboratory.intrinsic+json": {
              "type": "string"
            }
          },
          "metadata": {},
          "execution_count": 33
        }
      ]
    },
    {
      "cell_type": "code",
      "source": [
        "fruits"
      ],
      "metadata": {
        "colab": {
          "base_uri": "https://localhost:8080/"
        },
        "id": "pjxCFCJwcMj1",
        "outputId": "cc04ee87-b6cb-459b-906e-a4bf3708af34"
      },
      "execution_count": null,
      "outputs": [
        {
          "output_type": "execute_result",
          "data": {
            "text/plain": [
              "['apple']"
            ]
          },
          "metadata": {},
          "execution_count": 34
        }
      ]
    },
    {
      "cell_type": "markdown",
      "source": [
        "You can test whether a list contains a value using the `in` operator."
      ],
      "metadata": {
        "id": "wW6c755qdUrC"
      }
    },
    {
      "cell_type": "code",
      "source": [
        "'pineapple' in fruits"
      ],
      "metadata": {
        "colab": {
          "base_uri": "https://localhost:8080/"
        },
        "id": "dOTN7JBbcMl7",
        "outputId": "b8e4e708-ce7b-4f6e-d7b4-df5cd974b5c5"
      },
      "execution_count": null,
      "outputs": [
        {
          "output_type": "execute_result",
          "data": {
            "text/plain": [
              "False"
            ]
          },
          "metadata": {},
          "execution_count": 35
        }
      ]
    },
    {
      "cell_type": "code",
      "source": [
        "'apple' in fruits"
      ],
      "metadata": {
        "colab": {
          "base_uri": "https://localhost:8080/"
        },
        "id": "3n5vf8UicMn-",
        "outputId": "4e0a7d37-158f-430f-8d3e-403095400128"
      },
      "execution_count": null,
      "outputs": [
        {
          "output_type": "execute_result",
          "data": {
            "text/plain": [
              "True"
            ]
          },
          "metadata": {},
          "execution_count": 36
        }
      ]
    },
    {
      "cell_type": "markdown",
      "source": [
        "To combine two or more lists, use the `+` operator. This operation is also called *concatenation*."
      ],
      "metadata": {
        "id": "r1s_YPcjdh9T"
      }
    },
    {
      "cell_type": "code",
      "source": [
        "more_fruits = fruits + ['pineapple', 'tomato', 'guava'] + ['dates', 'banana']"
      ],
      "metadata": {
        "id": "7G3N3D5kcMqD"
      },
      "execution_count": null,
      "outputs": []
    },
    {
      "cell_type": "code",
      "source": [
        "more_fruits"
      ],
      "metadata": {
        "colab": {
          "base_uri": "https://localhost:8080/"
        },
        "id": "tZNiNXiYcMr7",
        "outputId": "b32d317b-7036-471a-95e5-cd0f439519e5"
      },
      "execution_count": null,
      "outputs": [
        {
          "output_type": "execute_result",
          "data": {
            "text/plain": [
              "['apple', 'pineapple', 'tomato', 'guava', 'dates', 'banana']"
            ]
          },
          "metadata": {},
          "execution_count": 38
        }
      ]
    },
    {
      "cell_type": "markdown",
      "source": [
        "To create a copy of a list, use the `copy` method. Modifying the copied list does not affect the original."
      ],
      "metadata": {
        "id": "z5o6zcFqdpwO"
      }
    },
    {
      "cell_type": "code",
      "source": [
        "more_fruits_copy = more_fruits.copy()"
      ],
      "metadata": {
        "id": "DhTfYLh-cMt9"
      },
      "execution_count": null,
      "outputs": []
    },
    {
      "cell_type": "code",
      "source": [
        "more_fruits_copy"
      ],
      "metadata": {
        "colab": {
          "base_uri": "https://localhost:8080/"
        },
        "id": "vIa4d7dycMwT",
        "outputId": "0af8f462-4f97-4b88-e2b0-b0cfeff60c9d"
      },
      "execution_count": null,
      "outputs": [
        {
          "output_type": "execute_result",
          "data": {
            "text/plain": [
              "['apple', 'pineapple', 'tomato', 'guava', 'dates', 'banana']"
            ]
          },
          "metadata": {},
          "execution_count": 40
        }
      ]
    },
    {
      "cell_type": "code",
      "source": [
        "# Modify the copy\n",
        "more_fruits_copy.remove('pineapple')\n",
        "more_fruits_copy.pop()\n",
        "more_fruits_copy"
      ],
      "metadata": {
        "colab": {
          "base_uri": "https://localhost:8080/"
        },
        "id": "sifrFaHhcMx8",
        "outputId": "2d834929-f8cb-4990-80d4-111c5859a796"
      },
      "execution_count": null,
      "outputs": [
        {
          "output_type": "execute_result",
          "data": {
            "text/plain": [
              "['apple', 'tomato', 'guava', 'dates']"
            ]
          },
          "metadata": {},
          "execution_count": 41
        }
      ]
    },
    {
      "cell_type": "code",
      "source": [
        "# Original list remains unchanged\n",
        "more_fruits"
      ],
      "metadata": {
        "colab": {
          "base_uri": "https://localhost:8080/"
        },
        "id": "788tToqkcMzu",
        "outputId": "8a4a071e-59d8-4ca0-bef1-e8a14409d761"
      },
      "execution_count": null,
      "outputs": [
        {
          "output_type": "execute_result",
          "data": {
            "text/plain": [
              "['apple', 'pineapple', 'tomato', 'guava', 'dates', 'banana']"
            ]
          },
          "metadata": {},
          "execution_count": 42
        }
      ]
    },
    {
      "cell_type": "markdown",
      "source": [
        "Note that you cannot create a copy of a list by simply creating a new variable using the assignment operator =. The new variable will point to the same list, and any modifications performed using either variable will affect the other."
      ],
      "metadata": {
        "id": "mT_Ol7c9eHFF"
      }
    },
    {
      "cell_type": "markdown",
      "source": [
        "Reverse the order of elements in a list:"
      ],
      "metadata": {
        "id": "Es7xdsrfe2R3"
      }
    },
    {
      "cell_type": "code",
      "source": [
        "more_fruits = ['apple', 'pineapple', 'tomato', 'guava', 'dates', 'banana']\n",
        "more_fruits.reverse()\n",
        "print(more_fruits)"
      ],
      "metadata": {
        "colab": {
          "base_uri": "https://localhost:8080/"
        },
        "id": "0xKR2PWccM1_",
        "outputId": "99b30fb2-f04d-4fdb-efa6-dd00aaf372d2"
      },
      "execution_count": null,
      "outputs": [
        {
          "output_type": "stream",
          "name": "stdout",
          "text": [
            "['banana', 'dates', 'guava', 'tomato', 'pineapple', 'apple']\n"
          ]
        }
      ]
    },
    {
      "cell_type": "markdown",
      "source": [
        "Add the elements of one list at the end of another list:"
      ],
      "metadata": {
        "id": "fr2hjzKve7W_"
      }
    },
    {
      "cell_type": "code",
      "source": [
        "more_fruits = ['apple', 'pineapple', 'tomato', 'guava', 'dates', 'banana']\n",
        "additional_fruits = ['orange', 'kiwi', 'mango']\n",
        "more_fruits.extend(additional_fruits)\n",
        "print(more_fruits)\n"
      ],
      "metadata": {
        "colab": {
          "base_uri": "https://localhost:8080/"
        },
        "id": "d7vQFVPdcM3y",
        "outputId": "e184267a-1642-42e0-d7e2-f291768ead89"
      },
      "execution_count": null,
      "outputs": [
        {
          "output_type": "stream",
          "name": "stdout",
          "text": [
            "['apple', 'pineapple', 'tomato', 'guava', 'dates', 'banana', 'orange', 'kiwi', 'mango']\n"
          ]
        }
      ]
    },
    {
      "cell_type": "markdown",
      "source": [
        "Sort a list of strings in alphabetical order:"
      ],
      "metadata": {
        "id": "7W2cps3zfA3g"
      }
    },
    {
      "cell_type": "code",
      "source": [
        "more_fruits = ['apple', 'pineapple', 'tomato', 'guava', 'dates', 'banana']\n",
        "more_fruits.sort()\n",
        "print(more_fruits)\n"
      ],
      "metadata": {
        "colab": {
          "base_uri": "https://localhost:8080/"
        },
        "id": "gd_4p01McM6E",
        "outputId": "daadf00e-f758-46bb-b358-9ef87a6eac5e"
      },
      "execution_count": null,
      "outputs": [
        {
          "output_type": "stream",
          "name": "stdout",
          "text": [
            "['apple', 'banana', 'dates', 'guava', 'pineapple', 'tomato']\n"
          ]
        }
      ]
    },
    {
      "cell_type": "markdown",
      "source": [
        "Sort a list of numbers in decreasing order:"
      ],
      "metadata": {
        "id": "vIEBB22YfM98"
      }
    },
    {
      "cell_type": "code",
      "source": [
        "numbers = [5, 10, 2, 8, 3]\n",
        "numbers.sort(reverse=True)\n",
        "print(numbers)"
      ],
      "metadata": {
        "colab": {
          "base_uri": "https://localhost:8080/"
        },
        "id": "j6HLeiJScM7x",
        "outputId": "483cdbee-cb5e-4efa-fc5e-d40db50eb359"
      },
      "execution_count": null,
      "outputs": [
        {
          "output_type": "stream",
          "name": "stdout",
          "text": [
            "[10, 8, 5, 3, 2]\n"
          ]
        }
      ]
    },
    {
      "cell_type": "markdown",
      "source": [
        "## Tuple\n",
        "\n",
        "A tuple is an ordered collection of values, similar to a list. However, it is not possible to add, remove, or modify values in a tuple. A tuple is created by enclosing values within parentheses `(` and `)`, separated by commas.\n",
        "\n",
        "> Any data structure that cannot be modified after creation is called *immutable*. You can think of tuples as immutable lists.\n",
        "\n",
        "Let's try some experiments with tuples."
      ],
      "metadata": {
        "id": "MKe34J0SfbHq"
      }
    },
    {
      "cell_type": "code",
      "source": [
        "fruits = ('apple', 'cherry', 'dates')"
      ],
      "metadata": {
        "id": "DxO-qOQucM9n"
      },
      "execution_count": 2,
      "outputs": []
    },
    {
      "cell_type": "code",
      "source": [
        "# check no. of elements\n",
        "len(fruits)"
      ],
      "metadata": {
        "id": "rtmQ90JacM_o",
        "colab": {
          "base_uri": "https://localhost:8080/"
        },
        "outputId": "d17eceb1-a5ad-4599-979b-8f119039f0c1"
      },
      "execution_count": 4,
      "outputs": [
        {
          "output_type": "execute_result",
          "data": {
            "text/plain": [
              "3"
            ]
          },
          "metadata": {},
          "execution_count": 4
        }
      ]
    },
    {
      "cell_type": "code",
      "source": [
        "# get an element (positive index)\n",
        "fruits[0]"
      ],
      "metadata": {
        "id": "L52xQGuscNBP",
        "colab": {
          "base_uri": "https://localhost:8080/",
          "height": 36
        },
        "outputId": "7658cfdd-a496-4ec3-e9d5-3e9bc82ca396"
      },
      "execution_count": 5,
      "outputs": [
        {
          "output_type": "execute_result",
          "data": {
            "text/plain": [
              "'apple'"
            ],
            "application/vnd.google.colaboratory.intrinsic+json": {
              "type": "string"
            }
          },
          "metadata": {},
          "execution_count": 5
        }
      ]
    },
    {
      "cell_type": "markdown",
      "source": [
        "You can also skip the parantheses `(` and `)` while creating a tuple. Python automatically converts comma-separated values into a tuple."
      ],
      "metadata": {
        "id": "PwCOncHfArPx"
      }
    },
    {
      "cell_type": "code",
      "source": [
        "the_3_musketeers = 'Athos', 'Porthos', 'Aramis'"
      ],
      "metadata": {
        "id": "WfAOwHIxcNDR"
      },
      "execution_count": 6,
      "outputs": []
    },
    {
      "cell_type": "code",
      "source": [
        "the_3_musketeers"
      ],
      "metadata": {
        "id": "6TPTPnuecNGr",
        "colab": {
          "base_uri": "https://localhost:8080/"
        },
        "outputId": "ea37078b-7f6f-47f1-94a9-2678e1b971c8"
      },
      "execution_count": 7,
      "outputs": [
        {
          "output_type": "execute_result",
          "data": {
            "text/plain": [
              "('Athos', 'Porthos', 'Aramis')"
            ]
          },
          "metadata": {},
          "execution_count": 7
        }
      ]
    },
    {
      "cell_type": "code",
      "source": [
        "single_element_tuple = 4,\n",
        "another_single_element_tuple = (4,)\n",
        "not_a_tuple = (4)"
      ],
      "metadata": {
        "id": "kvMnytR3FvQR"
      },
      "execution_count": 10,
      "outputs": []
    },
    {
      "cell_type": "code",
      "source": [
        "print(single_element_tuple,another_single_element_tuple,not_a_tuple )"
      ],
      "metadata": {
        "colab": {
          "base_uri": "https://localhost:8080/"
        },
        "id": "kEOjma8bAzqZ",
        "outputId": "f7441f21-ca7a-4b8f-990c-47b58fa8bdd2"
      },
      "execution_count": 11,
      "outputs": [
        {
          "output_type": "stream",
          "name": "stdout",
          "text": [
            "(4,) (4,) 4\n"
          ]
        }
      ]
    },
    {
      "cell_type": "markdown",
      "source": [
        "You can convert a list into a tuple using the `tuple` function, and vice versa using the `list` function"
      ],
      "metadata": {
        "id": "DgZa1lmGBWhe"
      }
    },
    {
      "cell_type": "code",
      "source": [
        "tuple(['one', 'two', 'three'])"
      ],
      "metadata": {
        "colab": {
          "base_uri": "https://localhost:8080/"
        },
        "id": "QHaRi_HOAzs2",
        "outputId": "8521e910-dd74-4e31-8232-681b405ed06f"
      },
      "execution_count": 12,
      "outputs": [
        {
          "output_type": "execute_result",
          "data": {
            "text/plain": [
              "('one', 'two', 'three')"
            ]
          },
          "metadata": {},
          "execution_count": 12
        }
      ]
    },
    {
      "cell_type": "code",
      "source": [
        "list(('Athos', 'Porthos', 'Aramis'))"
      ],
      "metadata": {
        "colab": {
          "base_uri": "https://localhost:8080/"
        },
        "id": "MknprqRgAzv0",
        "outputId": "73da242f-6a4f-464b-897e-2461347738b3"
      },
      "execution_count": 13,
      "outputs": [
        {
          "output_type": "execute_result",
          "data": {
            "text/plain": [
              "['Athos', 'Porthos', 'Aramis']"
            ]
          },
          "metadata": {},
          "execution_count": 13
        }
      ]
    },
    {
      "cell_type": "markdown",
      "source": [
        "Tuples have just two built-in methods: count and index."
      ],
      "metadata": {
        "id": "5n8ALp5NBkX7"
      }
    },
    {
      "cell_type": "markdown",
      "source": [
        "### Dictionary\n",
        "\n",
        "A dictionary is an unordered collection of items. Each item stored in a dictionary has a key and value. You can use a key to retrieve the corresponding value from the dictionary.  Dictionaries have the type `dict`.\n",
        "\n",
        "Dictionaries are often used to store many pieces of information e.g. details about a person, in a single variable. Dictionaries are created by enclosing key-value pairs within braces or curly brackets `{` and `}`."
      ],
      "metadata": {
        "id": "0pkJEkMiBpjH"
      }
    },
    {
      "cell_type": "code",
      "source": [
        "person1 = {\n",
        "    'name': 'John Doe',\n",
        "    'sex': 'Male',\n",
        "    'age': 32,\n",
        "    'married': True\n",
        "}"
      ],
      "metadata": {
        "id": "_2EfvOwCAzyS"
      },
      "execution_count": 14,
      "outputs": []
    },
    {
      "cell_type": "code",
      "source": [
        "person1"
      ],
      "metadata": {
        "colab": {
          "base_uri": "https://localhost:8080/"
        },
        "id": "FMRyOm4NAz0Z",
        "outputId": "bc96fbff-a67f-4fd9-99bf-b44b740a7184"
      },
      "execution_count": 15,
      "outputs": [
        {
          "output_type": "execute_result",
          "data": {
            "text/plain": [
              "{'name': 'John Doe', 'sex': 'Male', 'age': 32, 'married': True}"
            ]
          },
          "metadata": {},
          "execution_count": 15
        }
      ]
    },
    {
      "cell_type": "markdown",
      "source": [
        "Dictionaries can also be created using the `dict` function."
      ],
      "metadata": {
        "id": "GEJ3fvuLByjq"
      }
    },
    {
      "cell_type": "code",
      "source": [
        "person2 = dict(name='Jane Judy', sex='Female', age=28, married=False)"
      ],
      "metadata": {
        "id": "ekNHwsTtAz2N"
      },
      "execution_count": 16,
      "outputs": []
    },
    {
      "cell_type": "code",
      "source": [
        "person2"
      ],
      "metadata": {
        "colab": {
          "base_uri": "https://localhost:8080/"
        },
        "id": "2XWu2_62Az4X",
        "outputId": "cffbc306-c90b-47c2-9400-6b2104bb8faf"
      },
      "execution_count": 17,
      "outputs": [
        {
          "output_type": "execute_result",
          "data": {
            "text/plain": [
              "{'name': 'Jane Judy', 'sex': 'Female', 'age': 28, 'married': False}"
            ]
          },
          "metadata": {},
          "execution_count": 17
        }
      ]
    },
    {
      "cell_type": "markdown",
      "source": [
        "Keys can be used to access values using square brackets `[` and `]`."
      ],
      "metadata": {
        "id": "9K8pNH4aB7Yl"
      }
    },
    {
      "cell_type": "code",
      "source": [
        "person1['name']"
      ],
      "metadata": {
        "colab": {
          "base_uri": "https://localhost:8080/",
          "height": 36
        },
        "id": "WBPQ1eRbAz6O",
        "outputId": "adbd720d-9d35-4a77-c624-de42b84ccfe9"
      },
      "execution_count": 18,
      "outputs": [
        {
          "output_type": "execute_result",
          "data": {
            "text/plain": [
              "'John Doe'"
            ],
            "application/vnd.google.colaboratory.intrinsic+json": {
              "type": "string"
            }
          },
          "metadata": {},
          "execution_count": 18
        }
      ]
    },
    {
      "cell_type": "markdown",
      "source": [
        "You can also use the `get` method to access the value associated with a key."
      ],
      "metadata": {
        "id": "Ivil4yCkCChz"
      }
    },
    {
      "cell_type": "code",
      "source": [
        "person2.get(\"name\")"
      ],
      "metadata": {
        "colab": {
          "base_uri": "https://localhost:8080/",
          "height": 36
        },
        "id": "shQUXISmAz8E",
        "outputId": "63477cef-6309-463d-845a-fb2b719bdf31"
      },
      "execution_count": 19,
      "outputs": [
        {
          "output_type": "execute_result",
          "data": {
            "text/plain": [
              "'Jane Judy'"
            ],
            "application/vnd.google.colaboratory.intrinsic+json": {
              "type": "string"
            }
          },
          "metadata": {},
          "execution_count": 19
        }
      ]
    },
    {
      "cell_type": "markdown",
      "source": [
        "You can check whether a key is present in a dictionary using the `in` operator."
      ],
      "metadata": {
        "id": "4LP3OPLrCLc-"
      }
    },
    {
      "cell_type": "code",
      "source": [
        "'address' in person1"
      ],
      "metadata": {
        "colab": {
          "base_uri": "https://localhost:8080/"
        },
        "id": "1uHhag1XAz-K",
        "outputId": "b270d00d-5246-4733-d5d2-93c9a5deee38"
      },
      "execution_count": 20,
      "outputs": [
        {
          "output_type": "execute_result",
          "data": {
            "text/plain": [
              "False"
            ]
          },
          "metadata": {},
          "execution_count": 20
        }
      ]
    },
    {
      "cell_type": "markdown",
      "source": [
        "You can change the value associated with a key using the assignment operator."
      ],
      "metadata": {
        "id": "QTnHSaGpCV_0"
      }
    },
    {
      "cell_type": "code",
      "source": [
        "person2['married']"
      ],
      "metadata": {
        "colab": {
          "base_uri": "https://localhost:8080/"
        },
        "id": "FlvGRT5JA0Ov",
        "outputId": "f40ee730-09b2-4f09-a3e8-4648bf8a6851"
      },
      "execution_count": 21,
      "outputs": [
        {
          "output_type": "execute_result",
          "data": {
            "text/plain": [
              "False"
            ]
          },
          "metadata": {},
          "execution_count": 21
        }
      ]
    },
    {
      "cell_type": "code",
      "source": [
        "person2['married'] = True"
      ],
      "metadata": {
        "id": "zY36kqTBA0Q7"
      },
      "execution_count": 22,
      "outputs": []
    },
    {
      "cell_type": "code",
      "source": [
        "person2['married']"
      ],
      "metadata": {
        "colab": {
          "base_uri": "https://localhost:8080/"
        },
        "id": "PN2K40D1A0TA",
        "outputId": "5db5a417-551f-4b9c-ba66-ae784b0e1e1f"
      },
      "execution_count": 23,
      "outputs": [
        {
          "output_type": "execute_result",
          "data": {
            "text/plain": [
              "True"
            ]
          },
          "metadata": {},
          "execution_count": 23
        }
      ]
    },
    {
      "cell_type": "markdown",
      "source": [
        "The assignment operator can also be used to add new key-value pairs to the dictionary."
      ],
      "metadata": {
        "id": "bXs5k31xCiwm"
      }
    },
    {
      "cell_type": "code",
      "source": [],
      "metadata": {
        "id": "uY03CCyxA0VK"
      },
      "execution_count": null,
      "outputs": []
    },
    {
      "cell_type": "code",
      "source": [],
      "metadata": {
        "id": "eTYa7k_lA0X_"
      },
      "execution_count": null,
      "outputs": []
    }
  ]
}